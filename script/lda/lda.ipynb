{
 "cells": [
  {
   "cell_type": "code",
   "execution_count": 1,
   "id": "38233312",
   "metadata": {},
   "outputs": [],
   "source": [
    "from sklearn.feature_extraction.text import CountVectorizer\n",
    "import pandas as pd\n",
    "from sklearn.decomposition import LatentDirichletAllocation\n",
    "from sklearn.model_selection import GridSearchCV\n",
    "import pickle\n",
    "import matplotlib.pyplot as plt"
   ]
  },
  {
   "cell_type": "code",
   "execution_count": 3,
   "id": "7b9f97d8",
   "metadata": {},
   "outputs": [],
   "source": [
    "# Load all reviews files\n",
    "df = pd.read_csv('C:/Users/Jian/Desktop/BIA-660/dataset/all_reviews_processed.csv')\n",
    "# Dataframe only contains reviews column\n",
    "df = df['Review']"
   ]
  },
  {
   "cell_type": "code",
   "execution_count": 4,
   "id": "6e7b9f11",
   "metadata": {},
   "outputs": [],
   "source": [
    "vectorizer = CountVectorizer()\n",
    "# Fit and Transform reviews\n",
    "data_vectorized = vectorizer.fit_transform(df)"
   ]
  },
  {
   "cell_type": "code",
   "execution_count": 6,
   "id": "820c4c30",
   "metadata": {},
   "outputs": [
    {
     "data": {
      "text/plain": [
       "GridSearchCV(estimator=LatentDirichletAllocation(n_jobs=-1),\n",
       "             param_grid={'n_components': [10, 11, 12, 13, 14, 15]})"
      ]
     },
     "execution_count": 6,
     "metadata": {},
     "output_type": "execute_result"
    }
   ],
   "source": [
    "# Parameters to search through for n_components from 10 to 15\n",
    "search_params = {'n_components': [10,11,12,13,14,15]}\n",
    "# Initalize LDA\n",
    "lda = LatentDirichletAllocation(n_jobs=-1)\n",
    "# GridSearch \n",
    "model = GridSearchCV(lda, param_grid=search_params)\n",
    "# Fit the model\n",
    "model.fit(data_vectorized)"
   ]
  },
  {
   "cell_type": "code",
   "execution_count": 7,
   "id": "c635f6dd",
   "metadata": {},
   "outputs": [
    {
     "name": "stdout",
     "output_type": "stream",
     "text": [
      "Best Model's Params:  {'n_components': 10}\n",
      "Best Log Likelihood Score:  -3596144.56\n",
      "Model Perplexity:  1672.63\n"
     ]
    }
   ],
   "source": [
    "# Extra the best n_components\n",
    "best_lda_model = model.best_estimator_\n",
    "print(\"Best Model's Params: \", model.best_params_)\n",
    "print(\"Best Log Likelihood Score: \", \"{:.2f}\".format(model.best_score_))\n",
    "print(\"Model Perplexity: \", \"{:.2f}\".format(best_lda_model.perplexity(data_vectorized)))"
   ]
  },
  {
   "cell_type": "code",
   "execution_count": 8,
   "id": "609aa94f",
   "metadata": {},
   "outputs": [],
   "source": [
    "n = [10,11,12,13,14,15]\n",
    "# Get the mean of scores\n",
    "all_scores = model.cv_results_['mean_test_score']"
   ]
  },
  {
   "cell_type": "code",
   "execution_count": 17,
   "id": "b7d7db92",
   "metadata": {},
   "outputs": [
    {
     "data": {
      "image/png": "[encoded data removed]",
      "text/plain": [
       "<Figure size 432x288 with 1 Axes>"
      ]
     },
     "metadata": {
      "needs_background": "light"
     },
     "output_type": "display_data"
    }
   ],
   "source": [
    "# Plot the n and Mean Test Scores\n",
    "plt.plot(n, all_scores)\n",
    "plt.ylabel(\"Mean Test Score\")\n",
    "plt.xlabel(\"n\")\n",
    "plt.title(\"Mean Test Score for n Values\")\n",
    "plt.savefig('C:/Users/Jian/Desktop/BIA-660/lda_mean_scores.png', dpi=300, facecolor='white', transparent=False)\n",
    "plt.show()"
   ]
  },
  {
   "cell_type": "code",
   "execution_count": 10,
   "id": "36207744",
   "metadata": {},
   "outputs": [],
   "source": [
    "# Retrieve the best parameter\n",
    "n_components = model.best_params_['n_components']\n",
    "\n",
    "# Create optimized model\n",
    "optimized_lda = LatentDirichletAllocation(n_components = n_components, n_jobs=-1)\n",
    "lda_model = optimized_lda.fit(data_vectorized)\n",
    "\n",
    "# Save Vectorizer and Model\n",
    "pickle.dump(lda_model, open('C:/Users/Jian/Desktop/BIA-660/model/lda_model.sav', 'wb'))\n",
    "pickle.dump(vectorizer, open(\"C:/Users/Jian/Desktop/BIA-660/model/lda_vectorizer.sav\", \"wb\"))"
   ]
  }
 ],
 "metadata": {
  "kernelspec": {
   "display_name": "Python 3 (ipykernel)",
   "language": "python",
   "name": "python3"
  },
  "language_info": {
   "codemirror_mode": {
    "name": "ipython",
    "version": 3
   },
   "file_extension": ".py",
   "mimetype": "text/x-python",
   "name": "python",
   "nbconvert_exporter": "python",
   "pygments_lexer": "ipython3",
   "version": "3.9.7"
  }
 },
 "nbformat": 4,
 "nbformat_minor": 5
}
