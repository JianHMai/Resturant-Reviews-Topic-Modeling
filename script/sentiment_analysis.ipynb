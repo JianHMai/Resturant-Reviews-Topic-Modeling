{
 "cells": [
  {
   "cell_type": "code",
   "execution_count": 6,
   "id": "af3a3688",
   "metadata": {},
   "outputs": [],
   "source": [
    "import pandas as pd\n",
    "from matplotlib import pyplot as plt\n",
    "import os\n",
    "import csv\n",
    "from nltk import word_tokenize\n",
    "import string\n",
    "import nltk\n",
    "from nltk.sentiment.vader import SentimentIntensityAnalyzer\n",
    "from wordcloud import WordCloud"
   ]
  },
  {
   "cell_type": "markdown",
   "id": "a3c9934d",
   "metadata": {},
   "source": [
    "### Generate Word cloud using topics"
   ]
  },
  {
   "cell_type": "code",
   "execution_count": 7,
   "id": "2a32b9a0",
   "metadata": {},
   "outputs": [],
   "source": [
    "def generate_wordcloud(topics, filename, directory):\n",
    "    # Join the different processed titles together.\n",
    "    long_string = ', '.join(topics)\n",
    "    # Create a WordCloud object\n",
    "    wordcloud = WordCloud(background_color=\"white\", max_words=1000, contour_width=3, contour_color='steelblue')\n",
    "    # Generate a word cloud\n",
    "    wordcloud.generate(long_string)\n",
    "    # Visualize the word cloud\n",
    "    # wordcloud.to_image()\n",
    "    plt.figure(1,figsize=(13, 13))\n",
    "    plt.imshow(wordcloud)\n",
    "    plt.axis('off')\n",
    "    plt.title('Wordcloud of key \"{}\"'.format(filename))\n",
    "    plt.savefig('{}.png'.format(directory + filename))\n",
    "    plt.close()"
   ]
  },
  {
   "cell_type": "markdown",
   "id": "cc58fe5d",
   "metadata": {},
   "source": [
    "### Find neutral and positive words using sentiment score"
   ]
  },
  {
   "cell_type": "code",
   "execution_count": 8,
   "id": "9b4fd48c",
   "metadata": {},
   "outputs": [],
   "source": [
    "def evaluate_sentiments(input_filname):\n",
    "    sentiment_list = {}\n",
    "    df = pd.read_csv(os.path.join(input_filname), delimiter=\"|\", header=1)\n",
    "    for index, row in df.iterrows():\n",
    "        topics_list = row[1].split(\",\")\n",
    "        sentiment_list[row[0]] = []\n",
    "        for topic in topics_list:\n",
    "            ss = sid.polarity_scores(topic)\n",
    "            if ss['pos'] > 0 or ss['neu'] > 0:\n",
    "                sentiment_list[row[0]].append(topic)\n",
    "    return sentiment_list"
   ]
  },
  {
   "cell_type": "code",
   "execution_count": 9,
   "id": "279a023a",
   "metadata": {},
   "outputs": [],
   "source": [
    "sid = SentimentIntensityAnalyzer()"
   ]
  },
  {
   "cell_type": "markdown",
   "id": "9441b1ea",
   "metadata": {},
   "source": [
    "### Process topics fetched using KMeans\n",
    "Note: Output file saved at 'output/kmeans_wordcloud/' location for each restaurant"
   ]
  },
  {
   "cell_type": "code",
   "execution_count": 12,
   "id": "cefdaea2",
   "metadata": {},
   "outputs": [],
   "source": [
    "sentiment_list_kmeans = evaluate_sentiments(\"../dataset/restaurant_with_topics_kmeans.csv\" )\n",
    "\n",
    "for restaurant, topics in sentiment_list_kmeans.items():\n",
    "    generate_wordcloud(topics, restaurant, '../output/kmeans_wordcloud/')"
   ]
  },
  {
   "cell_type": "markdown",
   "id": "84a1bcb2",
   "metadata": {},
   "source": [
    "### Process topics fetched using LDA\n",
    "Note: Output file saved at 'output/lda_wordcloud/' location for each restaurant"
   ]
  },
  {
   "cell_type": "code",
   "execution_count": null,
   "id": "3abb2844",
   "metadata": {},
   "outputs": [],
   "source": [
    "sentiment_list_lda = evaluate_sentiments(\"dataset/restaurant_with_topics_lda.csv\")\n",
    "\n",
    "for restaurant, topics in sentiment_list_lda.items():\n",
    "    generate_wordcloud(topics, restaurant, 'output/lda_wordcloud/')"
   ]
  }
 ],
 "metadata": {
  "kernelspec": {
   "display_name": "Python 3 (ipykernel)",
   "language": "python",
   "name": "python3"
  },
  "language_info": {
   "codemirror_mode": {
    "name": "ipython",
    "version": 3
   },
   "file_extension": ".py",
   "mimetype": "text/x-python",
   "name": "python",
   "nbconvert_exporter": "python",
   "pygments_lexer": "ipython3",
   "version": "3.9.7"
  }
 },
 "nbformat": 4,
 "nbformat_minor": 5
}
