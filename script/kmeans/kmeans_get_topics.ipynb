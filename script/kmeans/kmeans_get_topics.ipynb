{
 "cells": [
  {
   "cell_type": "code",
   "execution_count": 4,
   "metadata": {},
   "outputs": [],
   "source": [
    "#Import Modules\n",
    "from IPython.core.interactiveshell import InteractiveShell\n",
    "InteractiveShell.ast_node_interactivity = \"all\"\n",
    "from sklearn.cluster import KMeans\n",
    "import pandas as pd\n",
    "from matplotlib import pyplot as plt\n",
    "from sklearn.feature_extraction.text import TfidfVectorizer\n",
    "from nltk.corpus import stopwords\n",
    "import matplotlib.pyplot as plt\n",
    "from sklearn.metrics import silhouette_score\n",
    "import pickle\n",
    "import numpy as np\n",
    "import os\n",
    "from nltk.sentiment.vader import SentimentIntensityAnalyzer"
   ]
  },
  {
   "cell_type": "code",
   "execution_count": 5,
   "metadata": {},
   "outputs": [],
   "source": [
    "#Read csv into DF\n",
    "df = pd.read_csv(\"C:/Sem 2/web mining/git clone/BIA-660-main/dataset/all_reviews_processed.csv\")"
   ]
  },
  {
   "cell_type": "code",
   "execution_count": 6,
   "metadata": {},
   "outputs": [
    {
     "data": {
      "text/plain": [
       "<bound method NDFrame.head of                Date                         Resturant Name  Rating  \\\n",
       "0         11/7/2021  10Th And Willow Bar And Grill Hoboken       5   \n",
       "1         11/1/2021  10Th And Willow Bar And Grill Hoboken       1   \n",
       "2          7/7/2021  10Th And Willow Bar And Grill Hoboken       4   \n",
       "3         6/14/2021  10Th And Willow Bar And Grill Hoboken       5   \n",
       "4          5/2/2021  10Th And Willow Bar And Grill Hoboken       3   \n",
       "...             ...                                    ...     ...   \n",
       "61524   3 years ago                     Zero Otto Uno Cafe       5   \n",
       "61525   3 years ago                     Zero Otto Uno Cafe       5   \n",
       "61526   3 years ago                     Zero Otto Uno Cafe       4   \n",
       "61527   3 years ago                     Zero Otto Uno Cafe       5   \n",
       "61528   3 years ago                     Zero Otto Uno Cafe       5   \n",
       "\n",
       "                                                  Review  Source  \n",
       "0      loved place much appetizer look great decided ...    Yelp  \n",
       "1      terrible wing recommended go get wing got wate...    Yelp  \n",
       "2      standard looking american bar inside tv sport ...    Yelp  \n",
       "3      place n't get 5 star rating every patron walk ...    Yelp  \n",
       "4      nothing special would really give 2 5 star cou...    Yelp  \n",
       "...                                                  ...     ...  \n",
       "61524  great true italian food margarita pizza good 1...  Google  \n",
       "61525          nice people real italian food molto bravi  Google  \n",
       "61526  got delivery spot pleased personal pizza makin...  Google  \n",
       "61527  pizza absolutely incredible wife came hearing ...  Google  \n",
       "61528  place great finally neapolitan pizza place ope...  Google  \n",
       "\n",
       "[61529 rows x 5 columns]>"
      ]
     },
     "execution_count": 6,
     "metadata": {},
     "output_type": "execute_result"
    }
   ],
   "source": [
    "df.head"
   ]
  },
  {
   "cell_type": "code",
   "execution_count": 7,
   "metadata": {},
   "outputs": [
    {
     "data": {
      "text/plain": [
       "<bound method NDFrame.head of 0        loved place much appetizer look great decided ...\n",
       "1        terrible wing recommended go get wing got wate...\n",
       "2        standard looking american bar inside tv sport ...\n",
       "3        place n't get 5 star rating every patron walk ...\n",
       "4        nothing special would really give 2 5 star cou...\n",
       "                               ...                        \n",
       "61524    great true italian food margarita pizza good 1...\n",
       "61525            nice people real italian food molto bravi\n",
       "61526    got delivery spot pleased personal pizza makin...\n",
       "61527    pizza absolutely incredible wife came hearing ...\n",
       "61528    place great finally neapolitan pizza place ope...\n",
       "Name: Review, Length: 61529, dtype: object>"
      ]
     },
     "execution_count": 7,
     "metadata": {},
     "output_type": "execute_result"
    }
   ],
   "source": [
    "#Data Preprocessing\n",
    "docs = df['Review']\n",
    "docs.head"
   ]
  },
  {
   "cell_type": "code",
   "execution_count": 8,
   "metadata": {},
   "outputs": [],
   "source": [
    "#Get the TF-IDF Vectorizer and Features\n",
    "vectorizer = TfidfVectorizer(stop_words='english')\n",
    "features = vectorizer.fit_transform(docs)"
   ]
  },
  {
   "cell_type": "code",
   "execution_count": 7,
   "metadata": {},
   "outputs": [
    {
     "data": {
      "text/plain": [
       "KMeans(n_clusters=5)"
      ]
     },
     "execution_count": 7,
     "metadata": {},
     "output_type": "execute_result"
    },
    {
     "data": {
      "text/plain": [
       "KMeans(n_clusters=6)"
      ]
     },
     "execution_count": 7,
     "metadata": {},
     "output_type": "execute_result"
    },
    {
     "data": {
      "text/plain": [
       "KMeans(n_clusters=7)"
      ]
     },
     "execution_count": 7,
     "metadata": {},
     "output_type": "execute_result"
    },
    {
     "data": {
      "text/plain": [
       "KMeans()"
      ]
     },
     "execution_count": 7,
     "metadata": {},
     "output_type": "execute_result"
    },
    {
     "data": {
      "text/plain": [
       "KMeans(n_clusters=9)"
      ]
     },
     "execution_count": 7,
     "metadata": {},
     "output_type": "execute_result"
    },
    {
     "data": {
      "text/plain": [
       "KMeans(n_clusters=10)"
      ]
     },
     "execution_count": 7,
     "metadata": {},
     "output_type": "execute_result"
    },
    {
     "data": {
      "text/plain": [
       "KMeans(n_clusters=11)"
      ]
     },
     "execution_count": 7,
     "metadata": {},
     "output_type": "execute_result"
    },
    {
     "data": {
      "text/plain": [
       "KMeans(n_clusters=12)"
      ]
     },
     "execution_count": 7,
     "metadata": {},
     "output_type": "execute_result"
    },
    {
     "data": {
      "text/plain": [
       "KMeans(n_clusters=13)"
      ]
     },
     "execution_count": 7,
     "metadata": {},
     "output_type": "execute_result"
    },
    {
     "data": {
      "text/plain": [
       "KMeans(n_clusters=14)"
      ]
     },
     "execution_count": 7,
     "metadata": {},
     "output_type": "execute_result"
    },
    {
     "data": {
      "text/plain": [
       "KMeans(n_clusters=15)"
      ]
     },
     "execution_count": 7,
     "metadata": {},
     "output_type": "execute_result"
    },
    {
     "data": {
      "text/plain": [
       "[<matplotlib.lines.Line2D at 0x21fc2fd8a90>]"
      ]
     },
     "execution_count": 7,
     "metadata": {},
     "output_type": "execute_result"
    },
    {
     "data": {
      "text/plain": [
       "Text(0, 0.5, 'Silhouette score')"
      ]
     },
     "execution_count": 7,
     "metadata": {},
     "output_type": "execute_result"
    },
    {
     "data": {
      "text/plain": [
       "Text(0.5, 0, 'k')"
      ]
     },
     "execution_count": 7,
     "metadata": {},
     "output_type": "execute_result"
    },
    {
     "data": {
      "text/plain": [
       "Text(0.5, 1.0, 'Silhouette Score for K-means')"
      ]
     },
     "execution_count": 7,
     "metadata": {},
     "output_type": "execute_result"
    },
    {
     "data": {
      "image/png": "[encoded data removed]",
      "text/plain": [
       "<Figure size 432x288 with 1 Axes>"
      ]
     },
     "metadata": {
      "needs_background": "light"
     },
     "output_type": "display_data"
    }
   ],
   "source": [
    "#Get the silhouette scores to determine optimum K \n",
    "s = []\n",
    "k = []\n",
    "for n_clusters in range(5,16):\n",
    "    kmeans = KMeans(n_clusters=n_clusters)\n",
    "    kmeans.fit(features)\n",
    "    labels = kmeans.labels_\n",
    "    centroids = kmeans.cluster_centers_\n",
    "    s.append(silhouette_score(features, labels, metric='euclidean'))\n",
    "    k.append(n_clusters)\n",
    "\n",
    "#Plot the silhouette scores over the range \n",
    "plt.plot(k, s)\n",
    "plt.ylabel(\"Silhouette score\")\n",
    "plt.xlabel(\"k\")\n",
    "plt.title(\"Silhouette Score for K-means\")"
   ]
  },
  {
   "cell_type": "code",
   "execution_count": 30,
   "metadata": {},
   "outputs": [],
   "source": [
    "#Model KMeans using k = 15\n",
    "k = 15\n",
    "model = KMeans(n_clusters=k, init='k-means++',max_iter = 100,n_init=1)\n",
    "final = model.fit(features)"
   ]
  },
  {
   "cell_type": "code",
   "execution_count": 10,
   "metadata": {},
   "outputs": [],
   "source": [
    "#Add a column \"Clusters\" to the df assigning model labels\n",
    "df['cluster']= model.labels_"
   ]
  },
  {
   "cell_type": "code",
   "execution_count": 10,
   "metadata": {},
   "outputs": [
    {
     "data": {
      "text/plain": [
       "2883263"
      ]
     },
     "execution_count": 10,
     "metadata": {},
     "output_type": "execute_result"
    },
    {
     "data": {
      "text/plain": [
       "218493"
      ]
     },
     "execution_count": 10,
     "metadata": {},
     "output_type": "execute_result"
    },
    {
     "data": {
      "text/plain": [
       "3114736"
      ]
     },
     "execution_count": 10,
     "metadata": {},
     "output_type": "execute_result"
    },
    {
     "data": {
      "text/plain": [
       "128934"
      ]
     },
     "execution_count": 10,
     "metadata": {},
     "output_type": "execute_result"
    },
    {
     "data": {
      "text/plain": [
       "484214"
      ]
     },
     "execution_count": 10,
     "metadata": {},
     "output_type": "execute_result"
    },
    {
     "data": {
      "text/plain": [
       "667651"
      ]
     },
     "execution_count": 10,
     "metadata": {},
     "output_type": "execute_result"
    },
    {
     "data": {
      "text/plain": [
       "647654"
      ]
     },
     "execution_count": 10,
     "metadata": {},
     "output_type": "execute_result"
    },
    {
     "data": {
      "text/plain": [
       "247097"
      ]
     },
     "execution_count": 10,
     "metadata": {},
     "output_type": "execute_result"
    },
    {
     "data": {
      "text/plain": [
       "1398248"
      ]
     },
     "execution_count": 10,
     "metadata": {},
     "output_type": "execute_result"
    },
    {
     "data": {
      "text/plain": [
       "233265"
      ]
     },
     "execution_count": 10,
     "metadata": {},
     "output_type": "execute_result"
    },
    {
     "data": {
      "text/plain": [
       "935052"
      ]
     },
     "execution_count": 10,
     "metadata": {},
     "output_type": "execute_result"
    },
    {
     "data": {
      "text/plain": [
       "5028287"
      ]
     },
     "execution_count": 10,
     "metadata": {},
     "output_type": "execute_result"
    },
    {
     "data": {
      "text/plain": [
       "121562"
      ]
     },
     "execution_count": 10,
     "metadata": {},
     "output_type": "execute_result"
    },
    {
     "data": {
      "text/plain": [
       "213272"
      ]
     },
     "execution_count": 10,
     "metadata": {},
     "output_type": "execute_result"
    },
    {
     "data": {
      "text/plain": [
       "327797"
      ]
     },
     "execution_count": 10,
     "metadata": {},
     "output_type": "execute_result"
    }
   ],
   "source": [
    "#Create csv's for each cluster and their corresponding reviews\n",
    "clusters = df.groupby('cluster')\n",
    "for cluster in clusters.groups:\n",
    "    f=open('cluster'+str(cluster)+'.csv','w')\n",
    "    data= clusters.get_group(cluster)[['Resturant Name','Review']]\n",
    "    f.write(data.to_csv(index_label='id'))\n",
    "    f.close()"
   ]
  },
  {
   "cell_type": "code",
   "execution_count": 23,
   "metadata": {},
   "outputs": [
    {
     "name": "stdout",
     "output_type": "stream",
     "text": [
      "Cluster centroids: \n",
      "\n",
      "Cluster 0:\n",
      "delicious\n",
      "food\n",
      "service\n",
      "great\n",
      "friendly\n",
      "staff\n",
      "fresh\n",
      "place\n",
      "recommend\n",
      "definitely\n",
      "--------------\n",
      "Cluster 1:\n",
      "good\n",
      "food\n",
      "service\n",
      "place\n",
      "price\n",
      "really\n",
      "friendly\n",
      "great\n",
      "pretty\n",
      "drink\n",
      "--------------\n",
      "Cluster 2:\n",
      "cake\n",
      "cooky\n",
      "cream\n",
      "ice\n",
      "cupcake\n",
      "chocolate\n",
      "bakery\n",
      "sweet\n",
      "good\n",
      "cookie\n",
      "--------------\n",
      "Cluster 3:\n",
      "great\n",
      "food\n",
      "service\n",
      "place\n",
      "atmosphere\n",
      "staff\n",
      "excellent\n",
      "friendly\n",
      "drink\n",
      "good\n",
      "--------------\n",
      "Cluster 4:\n",
      "sushi\n",
      "roll\n",
      "hoboken\n",
      "place\n",
      "fresh\n",
      "good\n",
      "great\n",
      "best\n",
      "fish\n",
      "service\n",
      "--------------\n",
      "Cluster 5:\n",
      "best\n",
      "hoboken\n",
      "sandwich\n",
      "food\n",
      "place\n",
      "town\n",
      "italian\n",
      "mozzarella\n",
      "great\n",
      "deli\n",
      "--------------\n",
      "Cluster 6:\n",
      "amazing\n",
      "food\n",
      "service\n",
      "great\n",
      "place\n",
      "staff\n",
      "friendly\n",
      "love\n",
      "recommend\n",
      "definitely\n",
      "--------------\n",
      "Cluster 7:\n",
      "steak\n",
      "good\n",
      "great\n",
      "cheese\n",
      "place\n",
      "food\n",
      "service\n",
      "best\n",
      "ordered\n",
      "cooked\n",
      "--------------\n",
      "Cluster 8:\n",
      "food\n",
      "place\n",
      "good\n",
      "great\n",
      "love\n",
      "chicken\n",
      "service\n",
      "like\n",
      "hoboken\n",
      "sandwich\n",
      "--------------\n",
      "Cluster 9:\n",
      "pizza\n",
      "slice\n",
      "best\n",
      "good\n",
      "great\n",
      "place\n",
      "hoboken\n",
      "crust\n",
      "pie\n",
      "delicious\n",
      "--------------\n",
      "Cluster 10:\n",
      "coffee\n",
      "great\n",
      "shop\n",
      "place\n",
      "good\n",
      "friendly\n",
      "latte\n",
      "pastry\n",
      "staff\n",
      "hoboken\n",
      "--------------\n",
      "Cluster 11:\n",
      "food\n",
      "time\n",
      "drink\n",
      "bar\n",
      "order\n",
      "table\n",
      "place\n",
      "good\n",
      "service\n",
      "came\n",
      "--------------\n",
      "Cluster 12:\n",
      "nice\n",
      "place\n",
      "food\n",
      "good\n",
      "great\n",
      "staff\n",
      "service\n",
      "atmosphere\n",
      "really\n",
      "friendly\n",
      "--------------\n",
      "Cluster 13:\n",
      "bagel\n",
      "cheese\n",
      "sandwich\n",
      "cream\n",
      "egg\n",
      "hoboken\n",
      "best\n",
      "place\n",
      "breakfast\n",
      "order\n",
      "--------------\n",
      "Cluster 14:\n",
      "translated\n",
      "google\n",
      "original\n",
      "muy\n",
      "excelente\n",
      "lugar\n",
      "excellent\n",
      "comida\n",
      "la\n",
      "good\n",
      "--------------\n"
     ]
    }
   ],
   "source": [
    "#Get the cluster centroid words to see what each cluster is talking about\n",
    "print(\"Cluster centroids: \\n\")\n",
    "order_centroids=model.cluster_centers_.argsort()[:, ::-1]\n",
    "terms=vectorizer.get_feature_names()\n",
    "clusters = {}\n",
    "for i in range(k):\n",
    "    print(\"Cluster %d:\" %i)\n",
    "    words = []\n",
    "    for j in order_centroids[i,:10]:\n",
    "        print('%s'% terms[j])\n",
    "        words.append(terms[j])\n",
    "    print('--------------')\n",
    "    clusters[i] = words"
   ]
  },
  {
   "cell_type": "code",
   "execution_count": 12,
   "metadata": {},
   "outputs": [],
   "source": [
    "# Save Vectorizer and Model\n",
    "pickle.dump(model, open('model/KMeans_model.sav', 'wb'))\n",
    "pickle.dump(vectorizer, open(\"model/KMeans_vectorizer.sav\", \"wb\"))"
   ]
  },
  {
   "cell_type": "code",
   "execution_count": 13,
   "metadata": {},
   "outputs": [],
   "source": [
    "#Load the vectorizer and model\n",
    "model= pickle.load(open('model/KMeans_model.sav', 'rb'))\n",
    "vectorizere = pickle.load(open(\"model/KMeans_vectorizer.sav\", \"rb\"))"
   ]
  },
  {
   "cell_type": "code",
   "execution_count": 14,
   "metadata": {},
   "outputs": [
    {
     "name": "stdout",
     "output_type": "stream",
     "text": [
      "KMeans(max_iter=100, n_clusters=15, n_init=1)\n"
     ]
    }
   ],
   "source": [
    "print(model) "
   ]
  },
  {
   "cell_type": "code",
   "execution_count": 24,
   "metadata": {},
   "outputs": [],
   "source": [
    "#Function to predict topics/Aspects in Yelp reviews folder\n",
    "def predict_topics_yelp(location,model,vectorizer):\n",
    "    df1 = pd.read_csv(location)\n",
    "    df1=df1['review']\n",
    "    df1.replace('',np.nan,inplace=True)\n",
    "    df1.dropna(inplace=True)\n",
    "    print(location)\n",
    "    text = vectorizer.transform(df1)\n",
    "    predict = model.predict(text)\n",
    "    print(clusters[predict[0]])\n",
    "  \n",
    "    \n",
    "    "
   ]
  },
  {
   "cell_type": "code",
   "execution_count": 25,
   "metadata": {},
   "outputs": [],
   "source": [
    "#Function to predict topics/Aspects in Google reviews folder\n",
    "def predict_topics_google(location,model,vectorizer):\n",
    "    df1 = pd.read_csv(location)\n",
    "    df1=df1['text']\n",
    "    df1.replace('',np.nan,inplace=True)\n",
    "    df1.dropna(inplace=True)\n",
    "    print(location)\n",
    "    text = vectorizer.transform(df1)\n",
    "    predict = model.predict(text)\n",
    "    print(clusters[predict[0]])\n",
    "    "
   ]
  },
  {
   "cell_type": "code",
   "execution_count": 26,
   "metadata": {},
   "outputs": [],
   "source": [
    "#Process each restaurant's csv in Yelp Reviews folder\n",
    "def process_yelp(model,vectorizer):\n",
    "    directory = \"C:/Sem 2/web mining/git_latest/BIA-660-main/dataset/yelp/processed_reviews/\"\n",
    "    for filename in os.listdir(directory):\n",
    "        if filename.endswith(\".csv\"):\n",
    "            predict_topics_yelp(os.path.join(directory,filename),model,vectorizer)\n"
   ]
  },
  {
   "cell_type": "code",
   "execution_count": 27,
   "metadata": {},
   "outputs": [],
   "source": [
    "#Process each restaurant's csv in Google Reviews folder\n",
    "def process_google(model,vectorizer):\n",
    "    directory= \"C:/Sem 2/web mining/git_latest/BIA-660-main/dataset/google/processed_reviews/\"\n",
    "    for filename in os.listdir(directory):\n",
    "        if filename.endswith(\".csv\"):\n",
    "            predict_topics_google(os.path.join(directory,filename),model,vectorizer)\n",
    "\n",
    "    "
   ]
  },
  {
   "cell_type": "code",
   "execution_count": 28,
   "metadata": {},
   "outputs": [
    {
     "name": "stdout",
     "output_type": "stream",
     "text": [
      "C:/Sem 2/web mining/git_latest/BIA-660-main/dataset/google/processed_reviews/7-stars-pizzeria_processed.csv\n",
      "['food', 'place', 'good', 'great', 'love', 'chicken', 'service', 'like', 'hoboken', 'sandwich']\n",
      "C:/Sem 2/web mining/git_latest/BIA-660-main/dataset/google/processed_reviews/80-river-bar-kitchen_processed.csv\n",
      "['food', 'time', 'drink', 'bar', 'order', 'table', 'place', 'good', 'service', 'came']\n",
      "C:/Sem 2/web mining/git_latest/BIA-660-main/dataset/google/processed_reviews/8th-street-tavern_processed.csv\n",
      "['good', 'food', 'service', 'place', 'price', 'really', 'friendly', 'great', 'pretty', 'drink']\n",
      "C:/Sem 2/web mining/git_latest/BIA-660-main/dataset/google/processed_reviews/acai-ya-later_processed.csv\n",
      "['food', 'place', 'good', 'great', 'love', 'chicken', 'service', 'like', 'hoboken', 'sandwich']\n",
      "C:/Sem 2/web mining/git_latest/BIA-660-main/dataset/google/processed_reviews/acme-markets_processed.csv\n",
      "['food', 'place', 'good', 'great', 'love', 'chicken', 'service', 'like', 'hoboken', 'sandwich']\n",
      "C:/Sem 2/web mining/git_latest/BIA-660-main/dataset/google/processed_reviews/alessio-s-cafe-gelato-pizza_processed.csv\n",
      "['food', 'place', 'good', 'great', 'love', 'chicken', 'service', 'like', 'hoboken', 'sandwich']\n",
      "C:/Sem 2/web mining/git_latest/BIA-660-main/dataset/google/processed_reviews/ali-baba-restaurant_processed.csv\n",
      "['best', 'hoboken', 'sandwich', 'food', 'place', 'town', 'italian', 'mozzarella', 'great', 'deli']\n",
      "C:/Sem 2/web mining/git_latest/BIA-660-main/dataset/google/processed_reviews/amanda-bananas_processed.csv\n",
      "['food', 'place', 'good', 'great', 'love', 'chicken', 'service', 'like', 'hoboken', 'sandwich']\n",
      "C:/Sem 2/web mining/git_latest/BIA-660-main/dataset/google/processed_reviews/amanda-s_processed.csv\n",
      "['food', 'place', 'good', 'great', 'love', 'chicken', 'service', 'like', 'hoboken', 'sandwich']\n",
      "C:/Sem 2/web mining/git_latest/BIA-660-main/dataset/google/processed_reviews/anthony-david-s_processed.csv\n",
      "['food', 'place', 'good', 'great', 'love', 'chicken', 'service', 'like', 'hoboken', 'sandwich']\n",
      "C:/Sem 2/web mining/git_latest/BIA-660-main/dataset/google/processed_reviews/apulia_processed.csv\n",
      "['food', 'place', 'good', 'great', 'love', 'chicken', 'service', 'like', 'hoboken', 'sandwich']\n",
      "C:/Sem 2/web mining/git_latest/BIA-660-main/dataset/google/processed_reviews/arthur-s-hoboken_processed.csv\n",
      "['steak', 'good', 'great', 'cheese', 'place', 'food', 'service', 'best', 'ordered', 'cooked']\n",
      "C:/Sem 2/web mining/git_latest/BIA-660-main/dataset/google/processed_reviews/asia-sushi-chinese_processed.csv\n",
      "['food', 'place', 'good', 'great', 'love', 'chicken', 'service', 'like', 'hoboken', 'sandwich']\n",
      "C:/Sem 2/web mining/git_latest/BIA-660-main/dataset/google/processed_reviews/augustino-s_processed.csv\n",
      "['food', 'place', 'good', 'great', 'love', 'chicken', 'service', 'like', 'hoboken', 'sandwich']\n",
      "C:/Sem 2/web mining/git_latest/BIA-660-main/dataset/google/processed_reviews/ayame-hibachi-sushi_processed.csv\n",
      "['food', 'place', 'good', 'great', 'love', 'chicken', 'service', 'like', 'hoboken', 'sandwich']\n",
      "C:/Sem 2/web mining/git_latest/BIA-660-main/dataset/google/processed_reviews/baja_processed.csv\n",
      "['nice', 'place', 'food', 'good', 'great', 'staff', 'service', 'atmosphere', 'really', 'friendly']\n",
      "C:/Sem 2/web mining/git_latest/BIA-660-main/dataset/google/processed_reviews/bangkok-city-thai_processed.csv\n",
      "['food', 'place', 'good', 'great', 'love', 'chicken', 'service', 'like', 'hoboken', 'sandwich']\n",
      "C:/Sem 2/web mining/git_latest/BIA-660-main/dataset/google/processed_reviews/barbes_processed.csv\n",
      "['steak', 'good', 'great', 'cheese', 'place', 'food', 'service', 'best', 'ordered', 'cooked']\n",
      "C:/Sem 2/web mining/git_latest/BIA-660-main/dataset/google/processed_reviews/bareburger_processed.csv\n",
      "['food', 'time', 'drink', 'bar', 'order', 'table', 'place', 'good', 'service', 'came']\n",
      "C:/Sem 2/web mining/git_latest/BIA-660-main/dataset/google/processed_reviews/belo-bar_processed.csv\n",
      "['food', 'place', 'good', 'great', 'love', 'chicken', 'service', 'like', 'hoboken', 'sandwich']\n",
      "C:/Sem 2/web mining/git_latest/BIA-660-main/dataset/google/processed_reviews/ben-jerrys_processed.csv\n",
      "['food', 'place', 'good', 'great', 'love', 'chicken', 'service', 'like', 'hoboken', 'sandwich']\n",
      "C:/Sem 2/web mining/git_latest/BIA-660-main/dataset/google/processed_reviews/benny-tudino-s_processed.csv\n",
      "['food', 'place', 'good', 'great', 'love', 'chicken', 'service', 'like', 'hoboken', 'sandwich']\n",
      "C:/Sem 2/web mining/git_latest/BIA-660-main/dataset/google/processed_reviews/bk-lobster-hoboken_processed.csv\n",
      "['amazing', 'food', 'service', 'great', 'place', 'staff', 'friendly', 'love', 'recommend', 'definitely']\n",
      "C:/Sem 2/web mining/git_latest/BIA-660-main/dataset/google/processed_reviews/black-rail-coffee_processed.csv\n",
      "['food', 'place', 'good', 'great', 'love', 'chicken', 'service', 'like', 'hoboken', 'sandwich']\n",
      "C:/Sem 2/web mining/git_latest/BIA-660-main/dataset/google/processed_reviews/blue-eyes-restaurant_processed.csv\n",
      "['food', 'place', 'good', 'great', 'love', 'chicken', 'service', 'like', 'hoboken', 'sandwich']\n",
      "C:/Sem 2/web mining/git_latest/BIA-660-main/dataset/google/processed_reviews/bluestone-lane-hoboken-cafe_processed.csv\n",
      "['food', 'place', 'good', 'great', 'love', 'chicken', 'service', 'like', 'hoboken', 'sandwich']\n",
      "C:/Sem 2/web mining/git_latest/BIA-660-main/dataset/google/processed_reviews/bwe-kafe_processed.csv\n",
      "['coffee', 'great', 'shop', 'place', 'good', 'friendly', 'latte', 'pastry', 'staff', 'hoboken']\n",
      "C:/Sem 2/web mining/git_latest/BIA-660-main/dataset/google/processed_reviews/cafe-michelina_processed.csv\n",
      "['food', 'place', 'good', 'great', 'love', 'chicken', 'service', 'like', 'hoboken', 'sandwich']\n",
      "C:/Sem 2/web mining/git_latest/BIA-660-main/dataset/google/processed_reviews/cafe-vista_processed.csv\n",
      "['coffee', 'great', 'shop', 'place', 'good', 'friendly', 'latte', 'pastry', 'staff', 'hoboken']\n",
      "C:/Sem 2/web mining/git_latest/BIA-660-main/dataset/google/processed_reviews/carlo-s-bakery_processed.csv\n",
      "['food', 'place', 'good', 'great', 'love', 'chicken', 'service', 'like', 'hoboken', 'sandwich']\n",
      "C:/Sem 2/web mining/git_latest/BIA-660-main/dataset/google/processed_reviews/carpe-diem_processed.csv\n",
      "['food', 'time', 'drink', 'bar', 'order', 'table', 'place', 'good', 'service', 'came']\n",
      "C:/Sem 2/web mining/git_latest/BIA-660-main/dataset/google/processed_reviews/chango-kitchen_processed.csv\n",
      "['best', 'hoboken', 'sandwich', 'food', 'place', 'town', 'italian', 'mozzarella', 'great', 'deli']\n",
      "C:/Sem 2/web mining/git_latest/BIA-660-main/dataset/google/processed_reviews/charrito-s-midtown_processed.csv\n",
      "['delicious', 'food', 'service', 'great', 'friendly', 'staff', 'fresh', 'place', 'recommend', 'definitely']\n",
      "C:/Sem 2/web mining/git_latest/BIA-660-main/dataset/google/processed_reviews/chicken-factory_processed.csv\n",
      "['great', 'food', 'service', 'place', 'atmosphere', 'staff', 'excellent', 'friendly', 'drink', 'good']\n",
      "C:/Sem 2/web mining/git_latest/BIA-660-main/dataset/google/processed_reviews/chipotle-mexican-grill_processed.csv\n",
      "['food', 'place', 'good', 'great', 'love', 'chicken', 'service', 'like', 'hoboken', 'sandwich']\n",
      "C:/Sem 2/web mining/git_latest/BIA-660-main/dataset/google/processed_reviews/choc-o-pain-french-bakery-and-cafe_processed.csv\n",
      "['food', 'place', 'good', 'great', 'love', 'chicken', 'service', 'like', 'hoboken', 'sandwich']\n",
      "C:/Sem 2/web mining/git_latest/BIA-660-main/dataset/google/processed_reviews/city-bistro_processed.csv\n",
      "['food', 'place', 'good', 'great', 'love', 'chicken', 'service', 'like', 'hoboken', 'sandwich']\n",
      "C:/Sem 2/web mining/git_latest/BIA-660-main/dataset/google/processed_reviews/cork-city-pub_processed.csv\n",
      "['food', 'time', 'drink', 'bar', 'order', 'table', 'place', 'good', 'service', 'came']\n",
      "C:/Sem 2/web mining/git_latest/BIA-660-main/dataset/google/processed_reviews/court-street_processed.csv\n",
      "['food', 'place', 'good', 'great', 'love', 'chicken', 'service', 'like', 'hoboken', 'sandwich']\n",
      "C:/Sem 2/web mining/git_latest/BIA-660-main/dataset/google/processed_reviews/cucina-saporito_processed.csv\n",
      "['nice', 'place', 'food', 'good', 'great', 'staff', 'service', 'atmosphere', 'really', 'friendly']\n",
      "C:/Sem 2/web mining/git_latest/BIA-660-main/dataset/google/processed_reviews/curry-up-now_processed.csv\n",
      "['food', 'place', 'good', 'great', 'love', 'chicken', 'service', 'like', 'hoboken', 'sandwich']\n",
      "C:/Sem 2/web mining/git_latest/BIA-660-main/dataset/google/processed_reviews/d-s-soul-full-cafe_processed.csv\n",
      "['best', 'hoboken', 'sandwich', 'food', 'place', 'town', 'italian', 'mozzarella', 'great', 'deli']\n",
      "C:/Sem 2/web mining/git_latest/BIA-660-main/dataset/google/processed_reviews/del-frisco-s-grille_processed.csv\n",
      "['food', 'time', 'drink', 'bar', 'order', 'table', 'place', 'good', 'service', 'came']\n",
      "C:/Sem 2/web mining/git_latest/BIA-660-main/dataset/google/processed_reviews/delite-liquor-store_processed.csv\n",
      "['food', 'place', 'good', 'great', 'love', 'chicken', 'service', 'like', 'hoboken', 'sandwich']\n",
      "C:/Sem 2/web mining/git_latest/BIA-660-main/dataset/google/processed_reviews/dining-room-at-anthony-david-s_processed.csv\n",
      "['food', 'place', 'good', 'great', 'love', 'chicken', 'service', 'like', 'hoboken', 'sandwich']\n",
      "C:/Sem 2/web mining/git_latest/BIA-660-main/dataset/google/processed_reviews/dino-harry-s-steak-house_processed.csv\n",
      "['food', 'place', 'good', 'great', 'love', 'chicken', 'service', 'like', 'hoboken', 'sandwich']\n",
      "C:/Sem 2/web mining/git_latest/BIA-660-main/dataset/google/processed_reviews/dom-s-bakery-grand_processed.csv\n",
      "['food', 'place', 'good', 'great', 'love', 'chicken', 'service', 'like', 'hoboken', 'sandwich']\n",
      "C:/Sem 2/web mining/git_latest/BIA-660-main/dataset/google/processed_reviews/dozzino_processed.csv\n",
      "['pizza', 'slice', 'best', 'good', 'great', 'place', 'hoboken', 'crust', 'pie', 'delicious']\n",
      "C:/Sem 2/web mining/git_latest/BIA-660-main/dataset/google/processed_reviews/dunkin_processed.csv\n",
      "['food', 'place', 'good', 'great', 'love', 'chicken', 'service', 'like', 'hoboken', 'sandwich']\n",
      "C:/Sem 2/web mining/git_latest/BIA-660-main/dataset/google/processed_reviews/east-la_processed.csv\n",
      "['great', 'food', 'service', 'place', 'atmosphere', 'staff', 'excellent', 'friendly', 'drink', 'good']\n",
      "C:/Sem 2/web mining/git_latest/BIA-660-main/dataset/google/processed_reviews/eco-hoboken_processed.csv\n",
      "['food', 'time', 'drink', 'bar', 'order', 'table', 'place', 'good', 'service', 'came']\n",
      "C:/Sem 2/web mining/git_latest/BIA-660-main/dataset/google/processed_reviews/elysian-cafe_processed.csv\n",
      "['food', 'place', 'good', 'great', 'love', 'chicken', 'service', 'like', 'hoboken', 'sandwich']\n",
      "C:/Sem 2/web mining/git_latest/BIA-660-main/dataset/google/processed_reviews/empanadas-cafe_processed.csv\n",
      "['food', 'time', 'drink', 'bar', 'order', 'table', 'place', 'good', 'service', 'came']\n",
      "C:/Sem 2/web mining/git_latest/BIA-660-main/dataset/google/processed_reviews/empyrean-indian-kitchen-bar_processed.csv\n",
      "['delicious', 'food', 'service', 'great', 'friendly', 'staff', 'fresh', 'place', 'recommend', 'definitely']\n",
      "C:/Sem 2/web mining/git_latest/BIA-660-main/dataset/google/processed_reviews/finnegan-s-pub_processed.csv\n",
      "['nice', 'place', 'food', 'good', 'great', 'staff', 'service', 'atmosphere', 'really', 'friendly']\n",
      "C:/Sem 2/web mining/git_latest/BIA-660-main/dataset/google/processed_reviews/fiore-s-house-of-quality_processed.csv\n",
      "['food', 'place', 'good', 'great', 'love', 'chicken', 'service', 'like', 'hoboken', 'sandwich']\n",
      "C:/Sem 2/web mining/git_latest/BIA-660-main/dataset/google/processed_reviews/flatbread-grill_processed.csv\n",
      "['food', 'place', 'good', 'great', 'love', 'chicken', 'service', 'like', 'hoboken', 'sandwich']\n",
      "C:/Sem 2/web mining/git_latest/BIA-660-main/dataset/google/processed_reviews/gfg-cafe-cuisine_processed.csv\n",
      "['food', 'place', 'good', 'great', 'love', 'chicken', 'service', 'like', 'hoboken', 'sandwich']\n",
      "C:/Sem 2/web mining/git_latest/BIA-660-main/dataset/google/processed_reviews/gogi-grill_processed.csv\n",
      "['food', 'place', 'good', 'great', 'love', 'chicken', 'service', 'like', 'hoboken', 'sandwich']\n",
      "C:/Sem 2/web mining/git_latest/BIA-660-main/dataset/google/processed_reviews/grand-vin_processed.csv\n",
      "['delicious', 'food', 'service', 'great', 'friendly', 'staff', 'fresh', 'place', 'recommend', 'definitely']\n",
      "C:/Sem 2/web mining/git_latest/BIA-660-main/dataset/google/processed_reviews/greektown_processed.csv\n",
      "['food', 'place', 'good', 'great', 'love', 'chicken', 'service', 'like', 'hoboken', 'sandwich']\n",
      "C:/Sem 2/web mining/git_latest/BIA-660-main/dataset/google/processed_reviews/green-garden_processed.csv\n",
      "['good', 'food', 'service', 'place', 'price', 'really', 'friendly', 'great', 'pretty', 'drink']\n",
      "C:/Sem 2/web mining/git_latest/BIA-660-main/dataset/google/processed_reviews/green-pear-cafe_processed.csv\n",
      "['coffee', 'great', 'shop', 'place', 'good', 'friendly', 'latte', 'pastry', 'staff', 'hoboken']\n",
      "C:/Sem 2/web mining/git_latest/BIA-660-main/dataset/google/processed_reviews/green-rock-tap-grill_processed.csv\n",
      "['food', 'place', 'good', 'great', 'love', 'chicken', 'service', 'like', 'hoboken', 'sandwich']\n",
      "C:/Sem 2/web mining/git_latest/BIA-660-main/dataset/google/processed_reviews/grimaldi-s-pizzeria_processed.csv\n",
      "['pizza', 'slice', 'best', 'good', 'great', 'place', 'hoboken', 'crust', 'pie', 'delicious']\n",
      "C:/Sem 2/web mining/git_latest/BIA-660-main/dataset/google/processed_reviews/h-s-giovanni-s-restaurant-pizzeria_processed.csv\n",
      "['nice', 'place', 'food', 'good', 'great', 'staff', 'service', 'atmosphere', 'really', 'friendly']\n",
      "C:/Sem 2/web mining/git_latest/BIA-660-main/dataset/google/processed_reviews/halifax_processed.csv\n",
      "['food', 'place', 'good', 'great', 'love', 'chicken', 'service', 'like', 'hoboken', 'sandwich']\n",
      "C:/Sem 2/web mining/git_latest/BIA-660-main/dataset/google/processed_reviews/hidden-grounds-coffee_processed.csv\n",
      "['amazing', 'food', 'service', 'great', 'place', 'staff', 'friendly', 'love', 'recommend', 'definitely']\n",
      "C:/Sem 2/web mining/git_latest/BIA-660-main/dataset/google/processed_reviews/hoboken-burrito_processed.csv\n",
      "['food', 'place', 'good', 'great', 'love', 'chicken', 'service', 'like', 'hoboken', 'sandwich']\n",
      "C:/Sem 2/web mining/git_latest/BIA-660-main/dataset/google/processed_reviews/hoboken-catering_processed.csv\n",
      "['food', 'place', 'good', 'great', 'love', 'chicken', 'service', 'like', 'hoboken', 'sandwich']\n",
      "C:/Sem 2/web mining/git_latest/BIA-660-main/dataset/google/processed_reviews/hoboken-waterfront_processed.csv\n",
      "['great', 'food', 'service', 'place', 'atmosphere', 'staff', 'excellent', 'friendly', 'drink', 'good']\n",
      "C:/Sem 2/web mining/git_latest/BIA-660-main/dataset/google/processed_reviews/honeygrow_processed.csv\n",
      "['food', 'place', 'good', 'great', 'love', 'chicken', 'service', 'like', 'hoboken', 'sandwich']\n",
      "C:/Sem 2/web mining/git_latest/BIA-660-main/dataset/google/processed_reviews/house-of-que_processed.csv\n",
      "['food', 'time', 'drink', 'bar', 'order', 'table', 'place', 'good', 'service', 'came']\n",
      "C:/Sem 2/web mining/git_latest/BIA-660-main/dataset/google/processed_reviews/hudson-river-waterfront-walkway_processed.csv\n",
      "['best', 'hoboken', 'sandwich', 'food', 'place', 'town', 'italian', 'mozzarella', 'great', 'deli']\n",
      "C:/Sem 2/web mining/git_latest/BIA-660-main/dataset/google/processed_reviews/hudson-table-hoboken_processed.csv\n",
      "['nice', 'place', 'food', 'good', 'great', 'staff', 'service', 'atmosphere', 'really', 'friendly']\n",
      "C:/Sem 2/web mining/git_latest/BIA-660-main/dataset/google/processed_reviews/il-tavolo-di-palmisano_processed.csv\n",
      "['amazing', 'food', 'service', 'great', 'place', 'staff', 'friendly', 'love', 'recommend', 'definitely']\n",
      "C:/Sem 2/web mining/git_latest/BIA-660-main/dataset/google/processed_reviews/illuzion_processed.csv\n",
      "['food', 'place', 'good', 'great', 'love', 'chicken', 'service', 'like', 'hoboken', 'sandwich']\n",
      "C:/Sem 2/web mining/git_latest/BIA-660-main/dataset/google/processed_reviews/imposto-s-pizza_processed.csv\n",
      "['food', 'place', 'good', 'great', 'love', 'chicken', 'service', 'like', 'hoboken', 'sandwich']\n",
      "C:/Sem 2/web mining/git_latest/BIA-660-main/dataset/google/processed_reviews/insomnia-cookies_processed.csv\n",
      "['cake', 'cooky', 'cream', 'ice', 'cupcake', 'chocolate', 'bakery', 'sweet', 'good', 'cookie']\n",
      "C:/Sem 2/web mining/git_latest/BIA-660-main/dataset/google/processed_reviews/iron-monkey_processed.csv\n",
      "['food', 'place', 'good', 'great', 'love', 'chicken', 'service', 'like', 'hoboken', 'sandwich']\n",
      "C:/Sem 2/web mining/git_latest/BIA-660-main/dataset/google/processed_reviews/jeffersons-coffee_processed.csv\n",
      "['coffee', 'great', 'shop', 'place', 'good', 'friendly', 'latte', 'pastry', 'staff', 'hoboken']\n",
      "C:/Sem 2/web mining/git_latest/BIA-660-main/dataset/google/processed_reviews/johnny-pepperoni_processed.csv\n",
      "['pizza', 'slice', 'best', 'good', 'great', 'place', 'hoboken', 'crust', 'pie', 'delicious']\n",
      "C:/Sem 2/web mining/git_latest/BIA-660-main/dataset/google/processed_reviews/jp-s-bagel-express_processed.csv\n",
      "['bagel', 'cheese', 'sandwich', 'cream', 'egg', 'hoboken', 'best', 'place', 'breakfast', 'order']\n",
      "C:/Sem 2/web mining/git_latest/BIA-660-main/dataset/google/processed_reviews/karma-kafe_processed.csv\n",
      "['food', 'place', 'good', 'great', 'love', 'chicken', 'service', 'like', 'hoboken', 'sandwich']\n",
      "C:/Sem 2/web mining/git_latest/BIA-660-main/dataset/google/processed_reviews/keming_processed.csv\n",
      "['food', 'place', 'good', 'great', 'love', 'chicken', 'service', 'like', 'hoboken', 'sandwich']\n",
      "C:/Sem 2/web mining/git_latest/BIA-660-main/dataset/google/processed_reviews/kolo-klub_processed.csv\n",
      "['food', 'place', 'good', 'great', 'love', 'chicken', 'service', 'like', 'hoboken', 'sandwich']\n",
      "C:/Sem 2/web mining/git_latest/BIA-660-main/dataset/google/processed_reviews/kung-fu-tea_processed.csv\n",
      "['food', 'place', 'good', 'great', 'love', 'chicken', 'service', 'like', 'hoboken', 'sandwich']\n",
      "C:/Sem 2/web mining/git_latest/BIA-660-main/dataset/google/processed_reviews/la-bouche_processed.csv\n",
      "['food', 'place', 'good', 'great', 'love', 'chicken', 'service', 'like', 'hoboken', 'sandwich']\n",
      "C:/Sem 2/web mining/git_latest/BIA-660-main/dataset/google/processed_reviews/la-casa_processed.csv\n",
      "['food', 'place', 'good', 'great', 'love', 'chicken', 'service', 'like', 'hoboken', 'sandwich']\n",
      "C:/Sem 2/web mining/git_latest/BIA-660-main/dataset/google/processed_reviews/lisa-s-italian-deli-caterer_processed.csv\n",
      "['food', 'place', 'good', 'great', 'love', 'chicken', 'service', 'like', 'hoboken', 'sandwich']\n",
      "C:/Sem 2/web mining/git_latest/BIA-660-main/dataset/google/processed_reviews/little-market_processed.csv\n",
      "['food', 'time', 'drink', 'bar', 'order', 'table', 'place', 'good', 'service', 'came']\n",
      "C:/Sem 2/web mining/git_latest/BIA-660-main/dataset/google/processed_reviews/lo-fatt-chow_processed.csv\n",
      "['food', 'place', 'good', 'great', 'love', 'chicken', 'service', 'like', 'hoboken', 'sandwich']\n",
      "C:/Sem 2/web mining/git_latest/BIA-660-main/dataset/google/processed_reviews/losurdo-s-italian-deli-bread-bakery_processed.csv\n",
      "['best', 'hoboken', 'sandwich', 'food', 'place', 'town', 'italian', 'mozzarella', 'great', 'deli']\n",
      "C:/Sem 2/web mining/git_latest/BIA-660-main/dataset/google/processed_reviews/m-p-biancamano_processed.csv\n",
      "['great', 'food', 'service', 'place', 'atmosphere', 'staff', 'excellent', 'friendly', 'drink', 'good']\n",
      "C:/Sem 2/web mining/git_latest/BIA-660-main/dataset/google/processed_reviews/malibu-diner_processed.csv\n",
      "['good', 'food', 'service', 'place', 'price', 'really', 'friendly', 'great', 'pretty', 'drink']\n",
      "C:/Sem 2/web mining/git_latest/BIA-660-main/dataset/google/processed_reviews/mamoun-s-falafel-hoboken-nj_processed.csv\n",
      "['translated', 'google', 'original', 'muy', 'excelente', 'lugar', 'excellent', 'comida', 'la', 'good']\n",
      "C:/Sem 2/web mining/git_latest/BIA-660-main/dataset/google/processed_reviews/margherita-s_processed.csv\n",
      "['food', 'place', 'good', 'great', 'love', 'chicken', 'service', 'like', 'hoboken', 'sandwich']\n",
      "C:/Sem 2/web mining/git_latest/BIA-660-main/dataset/google/processed_reviews/mario-s_processed.csv\n",
      "['amazing', 'food', 'service', 'great', 'place', 'staff', 'friendly', 'love', 'recommend', 'definitely']\n",
      "C:/Sem 2/web mining/git_latest/BIA-660-main/dataset/google/processed_reviews/midtown-philly-steaks_processed.csv\n",
      "['steak', 'good', 'great', 'cheese', 'place', 'food', 'service', 'best', 'ordered', 'cooked']\n",
      "C:/Sem 2/web mining/git_latest/BIA-660-main/dataset/google/processed_reviews/monroe-s_processed.csv\n",
      "['food', 'time', 'drink', 'bar', 'order', 'table', 'place', 'good', 'service', 'came']\n",
      "C:/Sem 2/web mining/git_latest/BIA-660-main/dataset/google/processed_reviews/moran-s-pub_processed.csv\n",
      "['good', 'food', 'service', 'place', 'price', 'really', 'friendly', 'great', 'pretty', 'drink']\n",
      "C:/Sem 2/web mining/git_latest/BIA-660-main/dataset/google/processed_reviews/mr-wrap-s_processed.csv\n",
      "['good', 'food', 'service', 'place', 'price', 'really', 'friendly', 'great', 'pretty', 'drink']\n",
      "C:/Sem 2/web mining/git_latest/BIA-660-main/dataset/google/processed_reviews/muteki-ramen_processed.csv\n",
      "['food', 'place', 'good', 'great', 'love', 'chicken', 'service', 'like', 'hoboken', 'sandwich']\n",
      "C:/Sem 2/web mining/git_latest/BIA-660-main/dataset/google/processed_reviews/napoli-s-pizza_processed.csv\n",
      "['food', 'place', 'good', 'great', 'love', 'chicken', 'service', 'like', 'hoboken', 'sandwich']\n",
      "C:/Sem 2/web mining/git_latest/BIA-660-main/dataset/google/processed_reviews/no-1_processed.csv\n",
      "['food', 'place', 'good', 'great', 'love', 'chicken', 'service', 'like', 'hoboken', 'sandwich']\n",
      "C:/Sem 2/web mining/git_latest/BIA-660-main/dataset/google/processed_reviews/okinawa-sushi-grill_processed.csv\n",
      "['sushi', 'roll', 'hoboken', 'place', 'fresh', 'good', 'great', 'best', 'fish', 'service']\n",
      "C:/Sem 2/web mining/git_latest/BIA-660-main/dataset/google/processed_reviews/old-german-bakery_processed.csv\n",
      "['food', 'place', 'good', 'great', 'love', 'chicken', 'service', 'like', 'hoboken', 'sandwich']\n",
      "C:/Sem 2/web mining/git_latest/BIA-660-main/dataset/google/processed_reviews/olivia-s_processed.csv\n",
      "['food', 'time', 'drink', 'bar', 'order', 'table', 'place', 'good', 'service', 'came']\n",
      "C:/Sem 2/web mining/git_latest/BIA-660-main/dataset/google/processed_reviews/one12_processed.csv\n",
      "['delicious', 'food', 'service', 'great', 'friendly', 'staff', 'fresh', 'place', 'recommend', 'definitely']\n",
      "C:/Sem 2/web mining/git_latest/BIA-660-main/dataset/google/processed_reviews/onieal-s_processed.csv\n",
      "['food', 'time', 'drink', 'bar', 'order', 'table', 'place', 'good', 'service', 'came']\n",
      "C:/Sem 2/web mining/git_latest/BIA-660-main/dataset/google/processed_reviews/orale-mexican-kitchen_processed.csv\n",
      "['food', 'place', 'good', 'great', 'love', 'chicken', 'service', 'like', 'hoboken', 'sandwich']\n",
      "C:/Sem 2/web mining/git_latest/BIA-660-main/dataset/google/processed_reviews/panello_processed.csv\n",
      "['food', 'place', 'good', 'great', 'love', 'chicken', 'service', 'like', 'hoboken', 'sandwich']\n",
      "C:/Sem 2/web mining/git_latest/BIA-660-main/dataset/google/processed_reviews/panera-bread_processed.csv\n",
      "['food', 'place', 'good', 'great', 'love', 'chicken', 'service', 'like', 'hoboken', 'sandwich']\n",
      "C:/Sem 2/web mining/git_latest/BIA-660-main/dataset/google/processed_reviews/pastrami-house-delicatessen_processed.csv\n",
      "['food', 'place', 'good', 'great', 'love', 'chicken', 'service', 'like', 'hoboken', 'sandwich']\n",
      "C:/Sem 2/web mining/git_latest/BIA-660-main/dataset/google/processed_reviews/pho-nomenon_processed.csv\n",
      "['food', 'place', 'good', 'great', 'love', 'chicken', 'service', 'like', 'hoboken', 'sandwich']\n",
      "C:/Sem 2/web mining/git_latest/BIA-660-main/dataset/google/processed_reviews/phoenix-bar-grill_processed.csv\n",
      "['great', 'food', 'service', 'place', 'atmosphere', 'staff', 'excellent', 'friendly', 'drink', 'good']\n",
      "C:/Sem 2/web mining/git_latest/BIA-660-main/dataset/google/processed_reviews/piccolos-cheesesteaks_processed.csv\n",
      "['best', 'hoboken', 'sandwich', 'food', 'place', 'town', 'italian', 'mozzarella', 'great', 'deli']\n",
      "C:/Sem 2/web mining/git_latest/BIA-660-main/dataset/google/processed_reviews/pico-taco_processed.csv\n",
      "['great', 'food', 'service', 'place', 'atmosphere', 'staff', 'excellent', 'friendly', 'drink', 'good']\n",
      "C:/Sem 2/web mining/git_latest/BIA-660-main/dataset/google/processed_reviews/pier-13-hoboken_processed.csv\n",
      "['best', 'hoboken', 'sandwich', 'food', 'place', 'town', 'italian', 'mozzarella', 'great', 'deli']\n",
      "C:/Sem 2/web mining/git_latest/BIA-660-main/dataset/google/processed_reviews/piki-poke-hawaiian-poke-bowl_processed.csv\n",
      "['good', 'food', 'service', 'place', 'price', 'really', 'friendly', 'great', 'pretty', 'drink']\n",
      "C:/Sem 2/web mining/git_latest/BIA-660-main/dataset/google/processed_reviews/pilsener-haus-biergarten_processed.csv\n",
      "['food', 'time', 'drink', 'bar', 'order', 'table', 'place', 'good', 'service', 'came']\n",
      "C:/Sem 2/web mining/git_latest/BIA-660-main/dataset/google/processed_reviews/pizzeria-hoboken_processed.csv\n",
      "['pizza', 'slice', 'best', 'good', 'great', 'place', 'hoboken', 'crust', 'pie', 'delicious']\n",
      "C:/Sem 2/web mining/git_latest/BIA-660-main/dataset/google/processed_reviews/playa-bowls_processed.csv\n",
      "['food', 'place', 'good', 'great', 'love', 'chicken', 'service', 'like', 'hoboken', 'sandwich']\n",
      "C:/Sem 2/web mining/git_latest/BIA-660-main/dataset/google/processed_reviews/prato-bakery_processed.csv\n",
      "['food', 'place', 'good', 'great', 'love', 'chicken', 'service', 'like', 'hoboken', 'sandwich']\n",
      "C:/Sem 2/web mining/git_latest/BIA-660-main/dataset/google/processed_reviews/precious-chinese-japanese-cuisine_processed.csv\n",
      "['sushi', 'roll', 'hoboken', 'place', 'fresh', 'good', 'great', 'best', 'fish', 'service']\n",
      "C:/Sem 2/web mining/git_latest/BIA-660-main/dataset/google/processed_reviews/proven-poke-co-hoboken_processed.csv\n",
      "['food', 'time', 'drink', 'bar', 'order', 'table', 'place', 'good', 'service', 'came']\n",
      "C:/Sem 2/web mining/git_latest/BIA-660-main/dataset/google/processed_reviews/qdoba-mexican-eats_processed.csv\n",
      "['delicious', 'food', 'service', 'great', 'friendly', 'staff', 'fresh', 'place', 'recommend', 'definitely']\n",
      "C:/Sem 2/web mining/git_latest/BIA-660-main/dataset/google/processed_reviews/quality-greens-kitchen_processed.csv\n",
      "['delicious', 'food', 'service', 'great', 'friendly', 'staff', 'fresh', 'place', 'recommend', 'definitely']\n",
      "C:/Sem 2/web mining/git_latest/BIA-660-main/dataset/google/processed_reviews/rice-shop_processed.csv\n",
      "['food', 'place', 'good', 'great', 'love', 'chicken', 'service', 'like', 'hoboken', 'sandwich']\n",
      "C:/Sem 2/web mining/git_latest/BIA-660-main/dataset/google/processed_reviews/robongi-hoboken_processed.csv\n",
      "['food', 'time', 'drink', 'bar', 'order', 'table', 'place', 'good', 'service', 'came']\n",
      "C:/Sem 2/web mining/git_latest/BIA-660-main/dataset/google/processed_reviews/rosario-s-at-willow_processed.csv\n",
      "['translated', 'google', 'original', 'muy', 'excelente', 'lugar', 'excellent', 'comida', 'la', 'good']\n",
      "C:/Sem 2/web mining/git_latest/BIA-660-main/dataset/google/processed_reviews/rosticeria-da-gigi_processed.csv\n",
      "['food', 'time', 'drink', 'bar', 'order', 'table', 'place', 'good', 'service', 'came']\n",
      "C:/Sem 2/web mining/git_latest/BIA-660-main/dataset/google/processed_reviews/saku-hoboken_processed.csv\n",
      "['sushi', 'roll', 'hoboken', 'place', 'fresh', 'good', 'great', 'best', 'fish', 'service']\n",
      "C:/Sem 2/web mining/git_latest/BIA-660-main/dataset/google/processed_reviews/san-giuseppe_processed.csv\n",
      "['best', 'hoboken', 'sandwich', 'food', 'place', 'town', 'italian', 'mozzarella', 'great', 'deli']\n",
      "C:/Sem 2/web mining/git_latest/BIA-660-main/dataset/google/processed_reviews/sangria-hoboken_processed.csv\n",
      "['food', 'time', 'drink', 'bar', 'order', 'table', 'place', 'good', 'service', 'came']\n",
      "C:/Sem 2/web mining/git_latest/BIA-660-main/dataset/google/processed_reviews/satay_processed.csv\n",
      "['good', 'food', 'service', 'place', 'price', 'really', 'friendly', 'great', 'pretty', 'drink']\n",
      "C:/Sem 2/web mining/git_latest/BIA-660-main/dataset/google/processed_reviews/seven-valleys_processed.csv\n",
      "['food', 'place', 'good', 'great', 'love', 'chicken', 'service', 'like', 'hoboken', 'sandwich']\n",
      "C:/Sem 2/web mining/git_latest/BIA-660-main/dataset/google/processed_reviews/shaka-bowl_processed.csv\n",
      "['food', 'place', 'good', 'great', 'love', 'chicken', 'service', 'like', 'hoboken', 'sandwich']\n",
      "C:/Sem 2/web mining/git_latest/BIA-660-main/dataset/google/processed_reviews/shake-shack_processed.csv\n",
      "['food', 'place', 'good', 'great', 'love', 'chicken', 'service', 'like', 'hoboken', 'sandwich']\n",
      "C:/Sem 2/web mining/git_latest/BIA-660-main/dataset/google/processed_reviews/shokudo_processed.csv\n",
      "['food', 'place', 'good', 'great', 'love', 'chicken', 'service', 'like', 'hoboken', 'sandwich']\n",
      "C:/Sem 2/web mining/git_latest/BIA-660-main/dataset/google/processed_reviews/shoprite-of-hoboken_processed.csv\n",
      "['food', 'place', 'good', 'great', 'love', 'chicken', 'service', 'like', 'hoboken', 'sandwich']\n",
      "C:/Sem 2/web mining/git_latest/BIA-660-main/dataset/google/processed_reviews/sirenetta-seafood-raw-bar_processed.csv\n",
      "['food', 'place', 'good', 'great', 'love', 'chicken', 'service', 'like', 'hoboken', 'sandwich']\n",
      "C:/Sem 2/web mining/git_latest/BIA-660-main/dataset/google/processed_reviews/sorellina_processed.csv\n",
      "['food', 'place', 'good', 'great', 'love', 'chicken', 'service', 'like', 'hoboken', 'sandwich']\n",
      "C:/Sem 2/web mining/git_latest/BIA-660-main/dataset/google/processed_reviews/south-lions-dim-sum-tea_processed.csv\n",
      "['food', 'place', 'good', 'great', 'love', 'chicken', 'service', 'like', 'hoboken', 'sandwich']\n",
      "C:/Sem 2/web mining/git_latest/BIA-660-main/dataset/google/processed_reviews/south-street-fish-ramen-co_processed.csv\n",
      "['food', 'place', 'good', 'great', 'love', 'chicken', 'service', 'like', 'hoboken', 'sandwich']\n",
      "C:/Sem 2/web mining/git_latest/BIA-660-main/dataset/google/processed_reviews/souzafit-restaurant-hoboken_processed.csv\n",
      "['food', 'place', 'good', 'great', 'love', 'chicken', 'service', 'like', 'hoboken', 'sandwich']\n",
      "C:/Sem 2/web mining/git_latest/BIA-660-main/dataset/google/processed_reviews/sri-thai_processed.csv\n",
      "['food', 'place', 'good', 'great', 'love', 'chicken', 'service', 'like', 'hoboken', 'sandwich']\n",
      "C:/Sem 2/web mining/git_latest/BIA-660-main/dataset/google/processed_reviews/stingray-lounge_processed.csv\n",
      "['food', 'place', 'good', 'great', 'love', 'chicken', 'service', 'like', 'hoboken', 'sandwich']\n",
      "C:/Sem 2/web mining/git_latest/BIA-660-main/dataset/google/processed_reviews/subway_processed.csv\n",
      "['food', 'place', 'good', 'great', 'love', 'chicken', 'service', 'like', 'hoboken', 'sandwich']\n",
      "C:/Sem 2/web mining/git_latest/BIA-660-main/dataset/google/processed_reviews/sushi-lounge_processed.csv\n",
      "['food', 'place', 'good', 'great', 'love', 'chicken', 'service', 'like', 'hoboken', 'sandwich']\n",
      "C:/Sem 2/web mining/git_latest/BIA-660-main/dataset/google/processed_reviews/sweet_processed.csv\n",
      "['food', 'place', 'good', 'great', 'love', 'chicken', 'service', 'like', 'hoboken', 'sandwich']\n",
      "C:/Sem 2/web mining/git_latest/BIA-660-main/dataset/google/processed_reviews/taqueria-hoboken_processed.csv\n",
      "['food', 'place', 'good', 'great', 'love', 'chicken', 'service', 'like', 'hoboken', 'sandwich']\n",
      "C:/Sem 2/web mining/git_latest/BIA-660-main/dataset/google/processed_reviews/tastee-platters_processed.csv\n",
      "['food', 'place', 'good', 'great', 'love', 'chicken', 'service', 'like', 'hoboken', 'sandwich']\n",
      "C:/Sem 2/web mining/git_latest/BIA-660-main/dataset/google/processed_reviews/tenth-street-pasta-pizza_processed.csv\n",
      "['pizza', 'slice', 'best', 'good', 'great', 'place', 'hoboken', 'crust', 'pie', 'delicious']\n",
      "C:/Sem 2/web mining/git_latest/BIA-660-main/dataset/google/processed_reviews/the-ainsworth-hoboken_processed.csv\n",
      "['best', 'hoboken', 'sandwich', 'food', 'place', 'town', 'italian', 'mozzarella', 'great', 'deli']\n",
      "C:/Sem 2/web mining/git_latest/BIA-660-main/dataset/google/processed_reviews/the-ale-house_processed.csv\n",
      "['nice', 'place', 'food', 'good', 'great', 'staff', 'service', 'atmosphere', 'really', 'friendly']\n",
      "C:/Sem 2/web mining/git_latest/BIA-660-main/dataset/google/processed_reviews/the-brass-rail_processed.csv\n",
      "['nice', 'place', 'food', 'good', 'great', 'staff', 'service', 'atmosphere', 'really', 'friendly']\n",
      "C:/Sem 2/web mining/git_latest/BIA-660-main/dataset/google/processed_reviews/the-brick_processed.csv\n",
      "['pizza', 'slice', 'best', 'good', 'great', 'place', 'hoboken', 'crust', 'pie', 'delicious']\n",
      "C:/Sem 2/web mining/git_latest/BIA-660-main/dataset/google/processed_reviews/the-cuban-restaurant-and-bar_processed.csv\n",
      "['food', 'place', 'good', 'great', 'love', 'chicken', 'service', 'like', 'hoboken', 'sandwich']\n",
      "C:/Sem 2/web mining/git_latest/BIA-660-main/dataset/google/processed_reviews/the-little-grocery_processed.csv\n",
      "['amazing', 'food', 'service', 'great', 'place', 'staff', 'friendly', 'love', 'recommend', 'definitely']\n",
      "C:/Sem 2/web mining/git_latest/BIA-660-main/dataset/google/processed_reviews/the-madison-bar-grill_processed.csv\n",
      "['food', 'place', 'good', 'great', 'love', 'chicken', 'service', 'like', 'hoboken', 'sandwich']\n",
      "C:/Sem 2/web mining/git_latest/BIA-660-main/dataset/google/processed_reviews/the-shannon_processed.csv\n",
      "['best', 'hoboken', 'sandwich', 'food', 'place', 'town', 'italian', 'mozzarella', 'great', 'deli']\n",
      "C:/Sem 2/web mining/git_latest/BIA-660-main/dataset/google/processed_reviews/the-stewed-cow_processed.csv\n",
      "['steak', 'good', 'great', 'cheese', 'place', 'food', 'service', 'best', 'ordered', 'cooked']\n",
      "C:/Sem 2/web mining/git_latest/BIA-660-main/dataset/google/processed_reviews/tony-boloney-s-hoboken_processed.csv\n",
      "['delicious', 'food', 'service', 'great', 'friendly', 'staff', 'fresh', 'place', 'recommend', 'definitely']\n",
      "C:/Sem 2/web mining/git_latest/BIA-660-main/dataset/google/processed_reviews/torna-pizzeria_processed.csv\n",
      "['great', 'food', 'service', 'place', 'atmosphere', 'staff', 'excellent', 'friendly', 'drink', 'good']\n",
      "C:/Sem 2/web mining/git_latest/BIA-660-main/dataset/google/processed_reviews/tosti_processed.csv\n",
      "['food', 'place', 'good', 'great', 'love', 'chicken', 'service', 'like', 'hoboken', 'sandwich']\n",
      "C:/Sem 2/web mining/git_latest/BIA-660-main/dataset/google/processed_reviews/touch-the-heart_processed.csv\n",
      "['nice', 'place', 'food', 'good', 'great', 'staff', 'service', 'atmosphere', 'really', 'friendly']\n",
      "C:/Sem 2/web mining/git_latest/BIA-660-main/dataset/google/processed_reviews/trader-joe-s_processed.csv\n",
      "['food', 'place', 'good', 'great', 'love', 'chicken', 'service', 'like', 'hoboken', 'sandwich']\n",
      "C:/Sem 2/web mining/git_latest/BIA-660-main/dataset/google/processed_reviews/turning-point_processed.csv\n",
      "['food', 'time', 'drink', 'bar', 'order', 'table', 'place', 'good', 'service', 'came']\n",
      "C:/Sem 2/web mining/git_latest/BIA-660-main/dataset/google/processed_reviews/ubu_processed.csv\n",
      "['great', 'food', 'service', 'place', 'atmosphere', 'staff', 'excellent', 'friendly', 'drink', 'good']\n",
      "C:/Sem 2/web mining/git_latest/BIA-660-main/dataset/google/processed_reviews/uptown-pizzeria_processed.csv\n",
      "['great', 'food', 'service', 'place', 'atmosphere', 'staff', 'excellent', 'friendly', 'drink', 'good']\n",
      "C:/Sem 2/web mining/git_latest/BIA-660-main/dataset/google/processed_reviews/urban-coalhouse-pizza-bar_processed.csv\n",
      "['great', 'food', 'service', 'place', 'atmosphere', 'staff', 'excellent', 'friendly', 'drink', 'good']\n",
      "C:/Sem 2/web mining/git_latest/BIA-660-main/dataset/google/processed_reviews/vito-s-deli_processed.csv\n",
      "['best', 'hoboken', 'sandwich', 'food', 'place', 'town', 'italian', 'mozzarella', 'great', 'deli']\n",
      "C:/Sem 2/web mining/git_latest/BIA-660-main/dataset/google/processed_reviews/wicked-wolf-tavern_processed.csv\n",
      "['food', 'time', 'drink', 'bar', 'order', 'table', 'place', 'good', 'service', 'came']\n",
      "C:/Sem 2/web mining/git_latest/BIA-660-main/dataset/google/processed_reviews/wine-dad-s_processed.csv\n",
      "['food', 'place', 'good', 'great', 'love', 'chicken', 'service', 'like', 'hoboken', 'sandwich']\n",
      "C:/Sem 2/web mining/git_latest/BIA-660-main/dataset/google/processed_reviews/wings-to-go-grande-pizza_processed.csv\n",
      "['amazing', 'food', 'service', 'great', 'place', 'staff', 'friendly', 'love', 'recommend', 'definitely']\n",
      "C:/Sem 2/web mining/git_latest/BIA-660-main/dataset/google/processed_reviews/yeung-ii_processed.csv\n",
      "['sushi', 'roll', 'hoboken', 'place', 'fresh', 'good', 'great', 'best', 'fish', 'service']\n",
      "C:/Sem 2/web mining/git_latest/BIA-660-main/dataset/google/processed_reviews/zack-s_processed.csv\n",
      "['food', 'time', 'drink', 'bar', 'order', 'table', 'place', 'good', 'service', 'came']\n",
      "C:/Sem 2/web mining/git_latest/BIA-660-main/dataset/google/processed_reviews/zero-otto-uno-cafe_processed.csv\n",
      "['food', 'place', 'good', 'great', 'love', 'chicken', 'service', 'like', 'hoboken', 'sandwich']\n"
     ]
    }
   ],
   "source": [
    "#Get the aspects of restaurants scraped from Google Reviews\n",
    "process_google(model,vectorizere)"
   ]
  },
  {
   "cell_type": "code",
   "execution_count": 29,
   "metadata": {},
   "outputs": [
    {
     "name": "stdout",
     "output_type": "stream",
     "text": [
      "C:/Sem 2/web mining/git_latest/BIA-660-main/dataset/yelp/processed_reviews/10th-and-willow-bar-and-grill-hoboken_processed.csv\n",
      "['food', 'place', 'good', 'great', 'love', 'chicken', 'service', 'like', 'hoboken', 'sandwich']\n",
      "C:/Sem 2/web mining/git_latest/BIA-660-main/dataset/yelp/processed_reviews/16-handles-hoboken_processed.csv\n",
      "['food', 'place', 'good', 'great', 'love', 'chicken', 'service', 'like', 'hoboken', 'sandwich']\n",
      "C:/Sem 2/web mining/git_latest/BIA-660-main/dataset/yelp/processed_reviews/acai-ya-later-hoboken_processed.csv\n",
      "['food', 'place', 'good', 'great', 'love', 'chicken', 'service', 'like', 'hoboken', 'sandwich']\n",
      "C:/Sem 2/web mining/git_latest/BIA-660-main/dataset/yelp/processed_reviews/ainsworth-hoboken-hoboken_processed.csv\n",
      "['food', 'place', 'good', 'great', 'love', 'chicken', 'service', 'like', 'hoboken', 'sandwich']\n",
      "C:/Sem 2/web mining/git_latest/BIA-660-main/dataset/yelp/processed_reviews/alessios-cafe-gelato-pizza-hoboken_processed.csv\n",
      "['great', 'food', 'service', 'place', 'atmosphere', 'staff', 'excellent', 'friendly', 'drink', 'good']\n",
      "C:/Sem 2/web mining/git_latest/BIA-660-main/dataset/yelp/processed_reviews/alfalfa-hoboken_processed.csv\n",
      "['food', 'place', 'good', 'great', 'love', 'chicken', 'service', 'like', 'hoboken', 'sandwich']\n",
      "C:/Sem 2/web mining/git_latest/BIA-660-main/dataset/yelp/processed_reviews/ali-baba-hoboken-2_processed.csv\n",
      "['good', 'food', 'service', 'place', 'price', 'really', 'friendly', 'great', 'pretty', 'drink']\n",
      "C:/Sem 2/web mining/git_latest/BIA-660-main/dataset/yelp/processed_reviews/amanda-bananas-hoboken_processed.csv\n",
      "['food', 'place', 'good', 'great', 'love', 'chicken', 'service', 'like', 'hoboken', 'sandwich']\n",
      "C:/Sem 2/web mining/git_latest/BIA-660-main/dataset/yelp/processed_reviews/amandas-restaurant-hoboken-2_processed.csv\n",
      "['food', 'place', 'good', 'great', 'love', 'chicken', 'service', 'like', 'hoboken', 'sandwich']\n",
      "C:/Sem 2/web mining/git_latest/BIA-660-main/dataset/yelp/processed_reviews/anthony-davids-hoboken_processed.csv\n",
      "['food', 'time', 'drink', 'bar', 'order', 'table', 'place', 'good', 'service', 'came']\n",
      "C:/Sem 2/web mining/git_latest/BIA-660-main/dataset/yelp/processed_reviews/antique-bar-and-bakery-hoboken-2_processed.csv\n",
      "['amazing', 'food', 'service', 'great', 'place', 'staff', 'friendly', 'love', 'recommend', 'definitely']\n",
      "C:/Sem 2/web mining/git_latest/BIA-660-main/dataset/yelp/processed_reviews/apulia-hoboken_processed.csv\n",
      "['nice', 'place', 'food', 'good', 'great', 'staff', 'service', 'atmosphere', 'really', 'friendly']\n",
      "C:/Sem 2/web mining/git_latest/BIA-660-main/dataset/yelp/processed_reviews/arthurs-steaks-hoboken_processed.csv\n",
      "['food', 'time', 'drink', 'bar', 'order', 'table', 'place', 'good', 'service', 'came']\n",
      "C:/Sem 2/web mining/git_latest/BIA-660-main/dataset/yelp/processed_reviews/augustinos-hoboken_processed.csv\n",
      "['food', 'time', 'drink', 'bar', 'order', 'table', 'place', 'good', 'service', 'came']\n",
      "C:/Sem 2/web mining/git_latest/BIA-660-main/dataset/yelp/processed_reviews/ayame-hibachi-and-sushi-hoboken_processed.csv\n",
      "['sushi', 'roll', 'hoboken', 'place', 'fresh', 'good', 'great', 'best', 'fish', 'service']\n",
      "C:/Sem 2/web mining/git_latest/BIA-660-main/dataset/yelp/processed_reviews/baking-mama-hoboken_processed.csv\n",
      "['cake', 'cooky', 'cream', 'ice', 'cupcake', 'chocolate', 'bakery', 'sweet', 'good', 'cookie']\n",
      "C:/Sem 2/web mining/git_latest/BIA-660-main/dataset/yelp/processed_reviews/bangkok-city-thai-restaurant-hoboken_processed.csv\n",
      "['food', 'place', 'good', 'great', 'love', 'chicken', 'service', 'like', 'hoboken', 'sandwich']\n",
      "C:/Sem 2/web mining/git_latest/BIA-660-main/dataset/yelp/processed_reviews/barbès-restaurant-hoboken_processed.csv\n",
      "['food', 'place', 'good', 'great', 'love', 'chicken', 'service', 'like', 'hoboken', 'sandwich']\n",
      "C:/Sem 2/web mining/git_latest/BIA-660-main/dataset/yelp/processed_reviews/bareburger-hoboken-hoboken_processed.csv\n",
      "['food', 'time', 'drink', 'bar', 'order', 'table', 'place', 'good', 'service', 'came']\n",
      "C:/Sem 2/web mining/git_latest/BIA-660-main/dataset/yelp/processed_reviews/basiles-pizza-hoboken_processed.csv\n",
      "['food', 'place', 'good', 'great', 'love', 'chicken', 'service', 'like', 'hoboken', 'sandwich']\n",
      "C:/Sem 2/web mining/git_latest/BIA-660-main/dataset/yelp/processed_reviews/bean-vault-coffee-hoboken_processed.csv\n",
      "['coffee', 'great', 'shop', 'place', 'good', 'friendly', 'latte', 'pastry', 'staff', 'hoboken']\n",
      "C:/Sem 2/web mining/git_latest/BIA-660-main/dataset/yelp/processed_reviews/belo-bar-hoboken_processed.csv\n",
      "['food', 'time', 'drink', 'bar', 'order', 'table', 'place', 'good', 'service', 'came']\n",
      "C:/Sem 2/web mining/git_latest/BIA-660-main/dataset/yelp/processed_reviews/ben-and-jerry-s-hoboken_processed.csv\n",
      "['cake', 'cooky', 'cream', 'ice', 'cupcake', 'chocolate', 'bakery', 'sweet', 'good', 'cookie']\n",
      "C:/Sem 2/web mining/git_latest/BIA-660-main/dataset/yelp/processed_reviews/benny-tudinos-pizzeria-hoboken_processed.csv\n",
      "['food', 'time', 'drink', 'bar', 'order', 'table', 'place', 'good', 'service', 'came']\n",
      "C:/Sem 2/web mining/git_latest/BIA-660-main/dataset/yelp/processed_reviews/bin-14-hoboken_processed.csv\n",
      "['pizza', 'slice', 'best', 'good', 'great', 'place', 'hoboken', 'crust', 'pie', 'delicious']\n",
      "C:/Sem 2/web mining/git_latest/BIA-660-main/dataset/yelp/processed_reviews/black-bear-bar-and-grill-hoboken_processed.csv\n",
      "['food', 'place', 'good', 'great', 'love', 'chicken', 'service', 'like', 'hoboken', 'sandwich']\n",
      "C:/Sem 2/web mining/git_latest/BIA-660-main/dataset/yelp/processed_reviews/black-rail-coffee-hoboken_processed.csv\n",
      "['food', 'place', 'good', 'great', 'love', 'chicken', 'service', 'like', 'hoboken', 'sandwich']\n",
      "C:/Sem 2/web mining/git_latest/BIA-660-main/dataset/yelp/processed_reviews/blue-eyes-restaurant-hoboken_processed.csv\n",
      "['food', 'time', 'drink', 'bar', 'order', 'table', 'place', 'good', 'service', 'came']\n",
      "C:/Sem 2/web mining/git_latest/BIA-660-main/dataset/yelp/processed_reviews/bluestone-lane-hoboken_processed.csv\n",
      "['food', 'time', 'drink', 'bar', 'order', 'table', 'place', 'good', 'service', 'came']\n",
      "C:/Sem 2/web mining/git_latest/BIA-660-main/dataset/yelp/processed_reviews/bwè-kafe-hoboken_processed.csv\n",
      "['coffee', 'great', 'shop', 'place', 'good', 'friendly', 'latte', 'pastry', 'staff', 'hoboken']\n",
      "C:/Sem 2/web mining/git_latest/BIA-660-main/dataset/yelp/processed_reviews/cafe-michelina-hoboken_processed.csv\n",
      "['food', 'place', 'good', 'great', 'love', 'chicken', 'service', 'like', 'hoboken', 'sandwich']\n",
      "C:/Sem 2/web mining/git_latest/BIA-660-main/dataset/yelp/processed_reviews/cafe-vista-hoboken-2_processed.csv\n",
      "['food', 'place', 'good', 'great', 'love', 'chicken', 'service', 'like', 'hoboken', 'sandwich']\n",
      "C:/Sem 2/web mining/git_latest/BIA-660-main/dataset/yelp/processed_reviews/carlos-bakery-hoboken-9_processed.csv\n",
      "['food', 'place', 'good', 'great', 'love', 'chicken', 'service', 'like', 'hoboken', 'sandwich']\n",
      "C:/Sem 2/web mining/git_latest/BIA-660-main/dataset/yelp/processed_reviews/carpe-diem-pub-and-restaurant-hoboken-2_processed.csv\n",
      "['food', 'place', 'good', 'great', 'love', 'chicken', 'service', 'like', 'hoboken', 'sandwich']\n",
      "C:/Sem 2/web mining/git_latest/BIA-660-main/dataset/yelp/processed_reviews/chango-kitchen-hoboken_processed.csv\n",
      "['food', 'time', 'drink', 'bar', 'order', 'table', 'place', 'good', 'service', 'came']\n",
      "C:/Sem 2/web mining/git_latest/BIA-660-main/dataset/yelp/processed_reviews/chicken-factory-hoboken-2_processed.csv\n",
      "['food', 'place', 'good', 'great', 'love', 'chicken', 'service', 'like', 'hoboken', 'sandwich']\n",
      "C:/Sem 2/web mining/git_latest/BIA-660-main/dataset/yelp/processed_reviews/choc-o-pain-hoboken-9_processed.csv\n",
      "['food', 'place', 'good', 'great', 'love', 'chicken', 'service', 'like', 'hoboken', 'sandwich']\n",
      "C:/Sem 2/web mining/git_latest/BIA-660-main/dataset/yelp/processed_reviews/city-bistro-hoboken_processed.csv\n",
      "['food', 'time', 'drink', 'bar', 'order', 'table', 'place', 'good', 'service', 'came']\n",
      "C:/Sem 2/web mining/git_latest/BIA-660-main/dataset/yelp/processed_reviews/city-of-saints-coffee-roasters-hoboken_processed.csv\n",
      "['coffee', 'great', 'shop', 'place', 'good', 'friendly', 'latte', 'pastry', 'staff', 'hoboken']\n",
      "C:/Sem 2/web mining/git_latest/BIA-660-main/dataset/yelp/processed_reviews/corkscrew-bar-jersey-city_processed.csv\n",
      "['best', 'hoboken', 'sandwich', 'food', 'place', 'town', 'italian', 'mozzarella', 'great', 'deli']\n",
      "C:/Sem 2/web mining/git_latest/BIA-660-main/dataset/yelp/processed_reviews/court-street-restaurant-and-bar-hoboken_processed.csv\n",
      "['amazing', 'food', 'service', 'great', 'place', 'staff', 'friendly', 'love', 'recommend', 'definitely']\n",
      "C:/Sem 2/web mining/git_latest/BIA-660-main/dataset/yelp/processed_reviews/cucina-saporito-hoboken_processed.csv\n",
      "['food', 'place', 'good', 'great', 'love', 'chicken', 'service', 'like', 'hoboken', 'sandwich']\n",
      "C:/Sem 2/web mining/git_latest/BIA-660-main/dataset/yelp/processed_reviews/curry-up-now-hoboken_processed.csv\n",
      "['delicious', 'food', 'service', 'great', 'friendly', 'staff', 'fresh', 'place', 'recommend', 'definitely']\n",
      "C:/Sem 2/web mining/git_latest/BIA-660-main/dataset/yelp/processed_reviews/del-friscos-grille-hoboken_processed.csv\n",
      "['food', 'place', 'good', 'great', 'love', 'chicken', 'service', 'like', 'hoboken', 'sandwich']\n",
      "C:/Sem 2/web mining/git_latest/BIA-660-main/dataset/yelp/processed_reviews/dino-and-harrys-steak-house-hoboken-5_processed.csv\n",
      "['steak', 'good', 'great', 'cheese', 'place', 'food', 'service', 'best', 'ordered', 'cooked']\n",
      "C:/Sem 2/web mining/git_latest/BIA-660-main/dataset/yelp/processed_reviews/dolce-and-salato-hoboken_processed.csv\n",
      "['food', 'place', 'good', 'great', 'love', 'chicken', 'service', 'like', 'hoboken', 'sandwich']\n",
      "C:/Sem 2/web mining/git_latest/BIA-660-main/dataset/yelp/processed_reviews/doms-bakery-grand-hoboken_processed.csv\n",
      "['amazing', 'food', 'service', 'great', 'place', 'staff', 'friendly', 'love', 'recommend', 'definitely']\n",
      "C:/Sem 2/web mining/git_latest/BIA-660-main/dataset/yelp/processed_reviews/dozzino-hoboken_processed.csv\n",
      "['pizza', 'slice', 'best', 'good', 'great', 'place', 'hoboken', 'crust', 'pie', 'delicious']\n",
      "C:/Sem 2/web mining/git_latest/BIA-660-main/dataset/yelp/processed_reviews/ds-soul-full-cafe-hoboken_processed.csv\n",
      "['food', 'time', 'drink', 'bar', 'order', 'table', 'place', 'good', 'service', 'came']\n",
      "C:/Sem 2/web mining/git_latest/BIA-660-main/dataset/yelp/processed_reviews/east-la-hoboken_processed.csv\n",
      "['food', 'time', 'drink', 'bar', 'order', 'table', 'place', 'good', 'service', 'came']\n",
      "C:/Sem 2/web mining/git_latest/BIA-660-main/dataset/yelp/processed_reviews/elysian-cafe-hoboken_processed.csv\n",
      "['food', 'time', 'drink', 'bar', 'order', 'table', 'place', 'good', 'service', 'came']\n",
      "C:/Sem 2/web mining/git_latest/BIA-660-main/dataset/yelp/processed_reviews/empire-coffee-and-tea-company-hoboken_processed.csv\n",
      "['food', 'place', 'good', 'great', 'love', 'chicken', 'service', 'like', 'hoboken', 'sandwich']\n",
      "C:/Sem 2/web mining/git_latest/BIA-660-main/dataset/yelp/processed_reviews/empyrean-indian-kitchen-and-bar-hoboken-2_processed.csv\n",
      "['food', 'place', 'good', 'great', 'love', 'chicken', 'service', 'like', 'hoboken', 'sandwich']\n",
      "C:/Sem 2/web mining/git_latest/BIA-660-main/dataset/yelp/processed_reviews/finnegans-pub-hoboken-2_processed.csv\n",
      "['nice', 'place', 'food', 'good', 'great', 'staff', 'service', 'atmosphere', 'really', 'friendly']\n",
      "C:/Sem 2/web mining/git_latest/BIA-660-main/dataset/yelp/processed_reviews/fiore-deli-of-hoboken-hoboken_processed.csv\n",
      "['delicious', 'food', 'service', 'great', 'friendly', 'staff', 'fresh', 'place', 'recommend', 'definitely']\n",
      "C:/Sem 2/web mining/git_latest/BIA-660-main/dataset/yelp/processed_reviews/frank-sinatra-park-hoboken_processed.csv\n",
      "['food', 'place', 'good', 'great', 'love', 'chicken', 'service', 'like', 'hoboken', 'sandwich']\n",
      "C:/Sem 2/web mining/git_latest/BIA-660-main/dataset/yelp/processed_reviews/gfg-bakery-cafe-hoboken_processed.csv\n",
      "['food', 'time', 'drink', 'bar', 'order', 'table', 'place', 'good', 'service', 'came']\n",
      "C:/Sem 2/web mining/git_latest/BIA-660-main/dataset/yelp/processed_reviews/giovannis-pizzeria-and-restaurant-hoboken-6_processed.csv\n",
      "['pizza', 'slice', 'best', 'good', 'great', 'place', 'hoboken', 'crust', 'pie', 'delicious']\n",
      "C:/Sem 2/web mining/git_latest/BIA-660-main/dataset/yelp/processed_reviews/gogi-grill-hoboken-hoboken-2_processed.csv\n",
      "['food', 'place', 'good', 'great', 'love', 'chicken', 'service', 'like', 'hoboken', 'sandwich']\n",
      "C:/Sem 2/web mining/git_latest/BIA-660-main/dataset/yelp/processed_reviews/gong-cha-hoboken_processed.csv\n",
      "['food', 'place', 'good', 'great', 'love', 'chicken', 'service', 'like', 'hoboken', 'sandwich']\n",
      "C:/Sem 2/web mining/git_latest/BIA-660-main/dataset/yelp/processed_reviews/grand-vin-hoboken_processed.csv\n",
      "['amazing', 'food', 'service', 'great', 'place', 'staff', 'friendly', 'love', 'recommend', 'definitely']\n",
      "C:/Sem 2/web mining/git_latest/BIA-660-main/dataset/yelp/processed_reviews/greektown-hoboken-3_processed.csv\n",
      "['food', 'place', 'good', 'great', 'love', 'chicken', 'service', 'like', 'hoboken', 'sandwich']\n",
      "C:/Sem 2/web mining/git_latest/BIA-660-main/dataset/yelp/processed_reviews/green-pear-cafe-hoboken_processed.csv\n",
      "['coffee', 'great', 'shop', 'place', 'good', 'friendly', 'latte', 'pastry', 'staff', 'hoboken']\n",
      "C:/Sem 2/web mining/git_latest/BIA-660-main/dataset/yelp/processed_reviews/green-rock-tap-and-grill-hoboken_processed.csv\n",
      "['food', 'place', 'good', 'great', 'love', 'chicken', 'service', 'like', 'hoboken', 'sandwich']\n",
      "C:/Sem 2/web mining/git_latest/BIA-660-main/dataset/yelp/processed_reviews/grimaldis-hoboken_processed.csv\n",
      "['pizza', 'slice', 'best', 'good', 'great', 'place', 'hoboken', 'crust', 'pie', 'delicious']\n",
      "C:/Sem 2/web mining/git_latest/BIA-660-main/dataset/yelp/processed_reviews/grubbs-take-away-hoboken_processed.csv\n",
      "['food', 'time', 'drink', 'bar', 'order', 'table', 'place', 'good', 'service', 'came']\n",
      "C:/Sem 2/web mining/git_latest/BIA-660-main/dataset/yelp/processed_reviews/halifax-hoboken-2_processed.csv\n",
      "['food', 'place', 'good', 'great', 'love', 'chicken', 'service', 'like', 'hoboken', 'sandwich']\n",
      "C:/Sem 2/web mining/git_latest/BIA-660-main/dataset/yelp/processed_reviews/happy-vegans-hoboken-2_processed.csv\n",
      "['food', 'place', 'good', 'great', 'love', 'chicken', 'service', 'like', 'hoboken', 'sandwich']\n",
      "C:/Sem 2/web mining/git_latest/BIA-660-main/dataset/yelp/processed_reviews/hidden-grounds-coffee-hoboken-4_processed.csv\n",
      "['coffee', 'great', 'shop', 'place', 'good', 'friendly', 'latte', 'pastry', 'staff', 'hoboken']\n",
      "C:/Sem 2/web mining/git_latest/BIA-660-main/dataset/yelp/processed_reviews/hidden-grounds-coffee-hoboken-6_processed.csv\n",
      "['food', 'place', 'good', 'great', 'love', 'chicken', 'service', 'like', 'hoboken', 'sandwich']\n",
      "C:/Sem 2/web mining/git_latest/BIA-660-main/dataset/yelp/processed_reviews/hoboken-hot-bagels-hoboken_processed.csv\n",
      "['bagel', 'cheese', 'sandwich', 'cream', 'egg', 'hoboken', 'best', 'place', 'breakfast', 'order']\n",
      "C:/Sem 2/web mining/git_latest/BIA-660-main/dataset/yelp/processed_reviews/honeygrow-hoboken_processed.csv\n",
      "['food', 'place', 'good', 'great', 'love', 'chicken', 'service', 'like', 'hoboken', 'sandwich']\n",
      "C:/Sem 2/web mining/git_latest/BIA-660-main/dataset/yelp/processed_reviews/house-of-que-hoboken-2_processed.csv\n",
      "['delicious', 'food', 'service', 'great', 'friendly', 'staff', 'fresh', 'place', 'recommend', 'definitely']\n",
      "C:/Sem 2/web mining/git_latest/BIA-660-main/dataset/yelp/processed_reviews/hudson-river-waterfront-walkway-hoboken_processed.csv\n",
      "['food', 'place', 'good', 'great', 'love', 'chicken', 'service', 'like', 'hoboken', 'sandwich']\n",
      "C:/Sem 2/web mining/git_latest/BIA-660-main/dataset/yelp/processed_reviews/il-tavolo-di-palmisano-hoboken-2_processed.csv\n",
      "['food', 'time', 'drink', 'bar', 'order', 'table', 'place', 'good', 'service', 'came']\n",
      "C:/Sem 2/web mining/git_latest/BIA-660-main/dataset/yelp/processed_reviews/illuzion-hoboken_processed.csv\n",
      "['sushi', 'roll', 'hoboken', 'place', 'fresh', 'good', 'great', 'best', 'fish', 'service']\n",
      "C:/Sem 2/web mining/git_latest/BIA-660-main/dataset/yelp/processed_reviews/insomnia-cookies-hoboken_processed.csv\n",
      "['cake', 'cooky', 'cream', 'ice', 'cupcake', 'chocolate', 'bakery', 'sweet', 'good', 'cookie']\n",
      "C:/Sem 2/web mining/git_latest/BIA-660-main/dataset/yelp/processed_reviews/jeffersons-coffee-hoboken-6_processed.csv\n",
      "['coffee', 'great', 'shop', 'place', 'good', 'friendly', 'latte', 'pastry', 'staff', 'hoboken']\n",
      "C:/Sem 2/web mining/git_latest/BIA-660-main/dataset/yelp/processed_reviews/jeffersons-coffee-hoboken_processed.csv\n",
      "['coffee', 'great', 'shop', 'place', 'good', 'friendly', 'latte', 'pastry', 'staff', 'hoboken']\n",
      "C:/Sem 2/web mining/git_latest/BIA-660-main/dataset/yelp/processed_reviews/joboken-cafe-hoboken-2_processed.csv\n",
      "['nice', 'place', 'food', 'good', 'great', 'staff', 'service', 'atmosphere', 'really', 'friendly']\n",
      "C:/Sem 2/web mining/git_latest/BIA-660-main/dataset/yelp/processed_reviews/johnny-pepperoni-hoboken_processed.csv\n",
      "['amazing', 'food', 'service', 'great', 'place', 'staff', 'friendly', 'love', 'recommend', 'definitely']\n",
      "C:/Sem 2/web mining/git_latest/BIA-660-main/dataset/yelp/processed_reviews/jps-bagel-express-hoboken_processed.csv\n",
      "['bagel', 'cheese', 'sandwich', 'cream', 'egg', 'hoboken', 'best', 'place', 'breakfast', 'order']\n",
      "C:/Sem 2/web mining/git_latest/BIA-660-main/dataset/yelp/processed_reviews/juns-macaron-gelato-hoboken_processed.csv\n",
      "['cake', 'cooky', 'cream', 'ice', 'cupcake', 'chocolate', 'bakery', 'sweet', 'good', 'cookie']\n",
      "C:/Sem 2/web mining/git_latest/BIA-660-main/dataset/yelp/processed_reviews/karma-kafe-hoboken_processed.csv\n",
      "['food', 'place', 'good', 'great', 'love', 'chicken', 'service', 'like', 'hoboken', 'sandwich']\n",
      "C:/Sem 2/web mining/git_latest/BIA-660-main/dataset/yelp/processed_reviews/keming-restaurant-hoboken-2_processed.csv\n",
      "['food', 'place', 'good', 'great', 'love', 'chicken', 'service', 'like', 'hoboken', 'sandwich']\n",
      "C:/Sem 2/web mining/git_latest/BIA-660-main/dataset/yelp/processed_reviews/kung-fu-tea-hoboken_processed.csv\n",
      "['food', 'place', 'good', 'great', 'love', 'chicken', 'service', 'like', 'hoboken', 'sandwich']\n",
      "C:/Sem 2/web mining/git_latest/BIA-660-main/dataset/yelp/processed_reviews/la-bouche-hoboken-3_processed.csv\n",
      "['food', 'place', 'good', 'great', 'love', 'chicken', 'service', 'like', 'hoboken', 'sandwich']\n",
      "C:/Sem 2/web mining/git_latest/BIA-660-main/dataset/yelp/processed_reviews/la-casa-hoboken_processed.csv\n",
      "['food', 'place', 'good', 'great', 'love', 'chicken', 'service', 'like', 'hoboken', 'sandwich']\n",
      "C:/Sem 2/web mining/git_latest/BIA-660-main/dataset/yelp/processed_reviews/la-isla-restaurant-hoboken_processed.csv\n",
      "['food', 'place', 'good', 'great', 'love', 'chicken', 'service', 'like', 'hoboken', 'sandwich']\n",
      "C:/Sem 2/web mining/git_latest/BIA-660-main/dataset/yelp/processed_reviews/la-isla-restaurant-uptown-hoboken_processed.csv\n",
      "['food', 'time', 'drink', 'bar', 'order', 'table', 'place', 'good', 'service', 'came']\n",
      "C:/Sem 2/web mining/git_latest/BIA-660-main/dataset/yelp/processed_reviews/leos-grandevous-hoboken_processed.csv\n",
      "['food', 'place', 'good', 'great', 'love', 'chicken', 'service', 'like', 'hoboken', 'sandwich']\n",
      "C:/Sem 2/web mining/git_latest/BIA-660-main/dataset/yelp/processed_reviews/lisas-italian-deli-hoboken_processed.csv\n",
      "['food', 'place', 'good', 'great', 'love', 'chicken', 'service', 'like', 'hoboken', 'sandwich']\n",
      "C:/Sem 2/web mining/git_latest/BIA-660-main/dataset/yelp/processed_reviews/lo-fatt-chow-hoboken_processed.csv\n",
      "['food', 'place', 'good', 'great', 'love', 'chicken', 'service', 'like', 'hoboken', 'sandwich']\n",
      "C:/Sem 2/web mining/git_latest/BIA-660-main/dataset/yelp/processed_reviews/lolas-hoboken_processed.csv\n",
      "['food', 'time', 'drink', 'bar', 'order', 'table', 'place', 'good', 'service', 'came']\n",
      "C:/Sem 2/web mining/git_latest/BIA-660-main/dataset/yelp/processed_reviews/losurdos-italian-bakery-and-deli-hoboken_processed.csv\n",
      "['best', 'hoboken', 'sandwich', 'food', 'place', 'town', 'italian', 'mozzarella', 'great', 'deli']\n",
      "C:/Sem 2/web mining/git_latest/BIA-660-main/dataset/yelp/processed_reviews/louise-and-jerrys-hoboken_processed.csv\n",
      "['food', 'time', 'drink', 'bar', 'order', 'table', 'place', 'good', 'service', 'came']\n",
      "C:/Sem 2/web mining/git_latest/BIA-660-main/dataset/yelp/processed_reviews/luca-brasis-deli-hoboken-151_processed.csv\n",
      "['food', 'place', 'good', 'great', 'love', 'chicken', 'service', 'like', 'hoboken', 'sandwich']\n",
      "C:/Sem 2/web mining/git_latest/BIA-660-main/dataset/yelp/processed_reviews/m-and-p-biancamano-hoboken_processed.csv\n",
      "['best', 'hoboken', 'sandwich', 'food', 'place', 'town', 'italian', 'mozzarella', 'great', 'deli']\n",
      "C:/Sem 2/web mining/git_latest/BIA-660-main/dataset/yelp/processed_reviews/madd-hatter-hoboken-3_processed.csv\n",
      "['food', 'time', 'drink', 'bar', 'order', 'table', 'place', 'good', 'service', 'came']\n",
      "C:/Sem 2/web mining/git_latest/BIA-660-main/dataset/yelp/processed_reviews/malibu-diner-hoboken_processed.csv\n",
      "['food', 'place', 'good', 'great', 'love', 'chicken', 'service', 'like', 'hoboken', 'sandwich']\n",
      "C:/Sem 2/web mining/git_latest/BIA-660-main/dataset/yelp/processed_reviews/mamouns-falafel-hoboken-hoboken-2_processed.csv\n",
      "['food', 'time', 'drink', 'bar', 'order', 'table', 'place', 'good', 'service', 'came']\n",
      "C:/Sem 2/web mining/git_latest/BIA-660-main/dataset/yelp/processed_reviews/mango-mango-hoboken_processed.csv\n",
      "['food', 'place', 'good', 'great', 'love', 'chicken', 'service', 'like', 'hoboken', 'sandwich']\n",
      "C:/Sem 2/web mining/git_latest/BIA-660-main/dataset/yelp/processed_reviews/margheritas-hoboken_processed.csv\n",
      "['pizza', 'slice', 'best', 'good', 'great', 'place', 'hoboken', 'crust', 'pie', 'delicious']\n",
      "C:/Sem 2/web mining/git_latest/BIA-660-main/dataset/yelp/processed_reviews/marios-classic-pizza-hoboken_processed.csv\n",
      "['pizza', 'slice', 'best', 'good', 'great', 'place', 'hoboken', 'crust', 'pie', 'delicious']\n",
      "C:/Sem 2/web mining/git_latest/BIA-660-main/dataset/yelp/processed_reviews/mcswiggans-pub-hoboken_processed.csv\n",
      "['food', 'place', 'good', 'great', 'love', 'chicken', 'service', 'like', 'hoboken', 'sandwich']\n",
      "C:/Sem 2/web mining/git_latest/BIA-660-main/dataset/yelp/processed_reviews/midtown-philly-steaks-hoboken-2_processed.csv\n",
      "['food', 'place', 'good', 'great', 'love', 'chicken', 'service', 'like', 'hoboken', 'sandwich']\n",
      "C:/Sem 2/web mining/git_latest/BIA-660-main/dataset/yelp/processed_reviews/mikie-squared-bar-and-grill-hoboken_processed.csv\n",
      "['great', 'food', 'service', 'place', 'atmosphere', 'staff', 'excellent', 'friendly', 'drink', 'good']\n",
      "C:/Sem 2/web mining/git_latest/BIA-660-main/dataset/yelp/processed_reviews/mojo-coffee-company-hoboken_processed.csv\n",
      "['coffee', 'great', 'shop', 'place', 'good', 'friendly', 'latte', 'pastry', 'staff', 'hoboken']\n",
      "C:/Sem 2/web mining/git_latest/BIA-660-main/dataset/yelp/processed_reviews/monroes-hoboken_processed.csv\n",
      "['food', 'time', 'drink', 'bar', 'order', 'table', 'place', 'good', 'service', 'came']\n",
      "C:/Sem 2/web mining/git_latest/BIA-660-main/dataset/yelp/processed_reviews/morans-hoboken_processed.csv\n",
      "['best', 'hoboken', 'sandwich', 'food', 'place', 'town', 'italian', 'mozzarella', 'great', 'deli']\n",
      "C:/Sem 2/web mining/git_latest/BIA-660-main/dataset/yelp/processed_reviews/mr-wraps-hoboken_processed.csv\n",
      "['food', 'place', 'good', 'great', 'love', 'chicken', 'service', 'like', 'hoboken', 'sandwich']\n",
      "C:/Sem 2/web mining/git_latest/BIA-660-main/dataset/yelp/processed_reviews/mulligans-hoboken_processed.csv\n",
      "['great', 'food', 'service', 'place', 'atmosphere', 'staff', 'excellent', 'friendly', 'drink', 'good']\n",
      "C:/Sem 2/web mining/git_latest/BIA-660-main/dataset/yelp/processed_reviews/muteki-ramen-hoboken_processed.csv\n",
      "['food', 'place', 'good', 'great', 'love', 'chicken', 'service', 'like', 'hoboken', 'sandwich']\n",
      "C:/Sem 2/web mining/git_latest/BIA-660-main/dataset/yelp/processed_reviews/napolis-pizza-hoboken-2_processed.csv\n",
      "['food', 'place', 'good', 'great', 'love', 'chicken', 'service', 'like', 'hoboken', 'sandwich']\n",
      "C:/Sem 2/web mining/git_latest/BIA-660-main/dataset/yelp/processed_reviews/napolis-pizza-hoboken_processed.csv\n",
      "['pizza', 'slice', 'best', 'good', 'great', 'place', 'hoboken', 'crust', 'pie', 'delicious']\n",
      "C:/Sem 2/web mining/git_latest/BIA-660-main/dataset/yelp/processed_reviews/northern-soul-kitchen-and-bar-hoboken_processed.csv\n",
      "['food', 'place', 'good', 'great', 'love', 'chicken', 'service', 'like', 'hoboken', 'sandwich']\n",
      "C:/Sem 2/web mining/git_latest/BIA-660-main/dataset/yelp/processed_reviews/o-bagel-hoboken_processed.csv\n",
      "['bagel', 'cheese', 'sandwich', 'cream', 'egg', 'hoboken', 'best', 'place', 'breakfast', 'order']\n",
      "C:/Sem 2/web mining/git_latest/BIA-660-main/dataset/yelp/processed_reviews/okinawa-sushi-and-grill-hoboken-2_processed.csv\n",
      "['food', 'place', 'good', 'great', 'love', 'chicken', 'service', 'like', 'hoboken', 'sandwich']\n",
      "C:/Sem 2/web mining/git_latest/BIA-660-main/dataset/yelp/processed_reviews/old-german-bakery-hoboken_processed.csv\n",
      "['cake', 'cooky', 'cream', 'ice', 'cupcake', 'chocolate', 'bakery', 'sweet', 'good', 'cookie']\n",
      "C:/Sem 2/web mining/git_latest/BIA-660-main/dataset/yelp/processed_reviews/onieals-hoboken_processed.csv\n",
      "['food', 'time', 'drink', 'bar', 'order', 'table', 'place', 'good', 'service', 'came']\n",
      "C:/Sem 2/web mining/git_latest/BIA-660-main/dataset/yelp/processed_reviews/orale-mexican-kitchen-hoboken_processed.csv\n",
      "['food', 'place', 'good', 'great', 'love', 'chicken', 'service', 'like', 'hoboken', 'sandwich']\n",
      "C:/Sem 2/web mining/git_latest/BIA-660-main/dataset/yelp/processed_reviews/otto-strada-hoboken-3_processed.csv\n",
      "['delicious', 'food', 'service', 'great', 'friendly', 'staff', 'fresh', 'place', 'recommend', 'definitely']\n",
      "C:/Sem 2/web mining/git_latest/BIA-660-main/dataset/yelp/processed_reviews/panello-hoboken_processed.csv\n",
      "['pizza', 'slice', 'best', 'good', 'great', 'place', 'hoboken', 'crust', 'pie', 'delicious']\n",
      "C:/Sem 2/web mining/git_latest/BIA-660-main/dataset/yelp/processed_reviews/panera-bread-hoboken_processed.csv\n",
      "['food', 'time', 'drink', 'bar', 'order', 'table', 'place', 'good', 'service', 'came']\n",
      "C:/Sem 2/web mining/git_latest/BIA-660-main/dataset/yelp/processed_reviews/pastrami-house-hoboken_processed.csv\n",
      "['food', 'place', 'good', 'great', 'love', 'chicken', 'service', 'like', 'hoboken', 'sandwich']\n",
      "C:/Sem 2/web mining/git_latest/BIA-660-main/dataset/yelp/processed_reviews/pho-nomenon-noodle-and-grill-hoboken_processed.csv\n",
      "['food', 'place', 'good', 'great', 'love', 'chicken', 'service', 'like', 'hoboken', 'sandwich']\n",
      "C:/Sem 2/web mining/git_latest/BIA-660-main/dataset/yelp/processed_reviews/piccolos-cheesesteaks-hoboken-hoboken_processed.csv\n",
      "['food', 'place', 'good', 'great', 'love', 'chicken', 'service', 'like', 'hoboken', 'sandwich']\n",
      "C:/Sem 2/web mining/git_latest/BIA-660-main/dataset/yelp/processed_reviews/pico-taco-hoboken-2_processed.csv\n",
      "['food', 'place', 'good', 'great', 'love', 'chicken', 'service', 'like', 'hoboken', 'sandwich']\n",
      "C:/Sem 2/web mining/git_latest/BIA-660-main/dataset/yelp/processed_reviews/pier-a-park-hoboken_processed.csv\n",
      "['food', 'place', 'good', 'great', 'love', 'chicken', 'service', 'like', 'hoboken', 'sandwich']\n",
      "C:/Sem 2/web mining/git_latest/BIA-660-main/dataset/yelp/processed_reviews/pier-c-hoboken_processed.csv\n",
      "['food', 'place', 'good', 'great', 'love', 'chicken', 'service', 'like', 'hoboken', 'sandwich']\n",
      "C:/Sem 2/web mining/git_latest/BIA-660-main/dataset/yelp/processed_reviews/piki-poké-hoboken-2_processed.csv\n",
      "['food', 'place', 'good', 'great', 'love', 'chicken', 'service', 'like', 'hoboken', 'sandwich']\n",
      "C:/Sem 2/web mining/git_latest/BIA-660-main/dataset/yelp/processed_reviews/pilsener-haus-and-biergarten-hoboken_processed.csv\n",
      "['food', 'time', 'drink', 'bar', 'order', 'table', 'place', 'good', 'service', 'came']\n",
      "C:/Sem 2/web mining/git_latest/BIA-660-main/dataset/yelp/processed_reviews/pizza-republic-hoboken_processed.csv\n",
      "['pizza', 'slice', 'best', 'good', 'great', 'place', 'hoboken', 'crust', 'pie', 'delicious']\n",
      "C:/Sem 2/web mining/git_latest/BIA-660-main/dataset/yelp/processed_reviews/precious-japanese-and-chinese-cuisine-hoboken_processed.csv\n",
      "['best', 'hoboken', 'sandwich', 'food', 'place', 'town', 'italian', 'mozzarella', 'great', 'deli']\n",
      "C:/Sem 2/web mining/git_latest/BIA-660-main/dataset/yelp/processed_reviews/purely-juiced-hoboken_processed.csv\n",
      "['food', 'place', 'good', 'great', 'love', 'chicken', 'service', 'like', 'hoboken', 'sandwich']\n",
      "C:/Sem 2/web mining/git_latest/BIA-660-main/dataset/yelp/processed_reviews/quality-greens-kitchen-hoboken_processed.csv\n",
      "['food', 'place', 'good', 'great', 'love', 'chicken', 'service', 'like', 'hoboken', 'sandwich']\n",
      "C:/Sem 2/web mining/git_latest/BIA-660-main/dataset/yelp/processed_reviews/ritas-italian-ice-hoboken_processed.csv\n",
      "['cake', 'cooky', 'cream', 'ice', 'cupcake', 'chocolate', 'bakery', 'sweet', 'good', 'cookie']\n",
      "C:/Sem 2/web mining/git_latest/BIA-660-main/dataset/yelp/processed_reviews/robongi-hoboken_processed.csv\n",
      "['sushi', 'roll', 'hoboken', 'place', 'fresh', 'good', 'great', 'best', 'fish', 'service']\n",
      "C:/Sem 2/web mining/git_latest/BIA-660-main/dataset/yelp/processed_reviews/rosticeria-da-gigi-hoboken_processed.csv\n",
      "['amazing', 'food', 'service', 'great', 'place', 'staff', 'friendly', 'love', 'recommend', 'definitely']\n",
      "C:/Sem 2/web mining/git_latest/BIA-660-main/dataset/yelp/processed_reviews/saku-hoboken-2_processed.csv\n",
      "['best', 'hoboken', 'sandwich', 'food', 'place', 'town', 'italian', 'mozzarella', 'great', 'deli']\n",
      "C:/Sem 2/web mining/git_latest/BIA-660-main/dataset/yelp/processed_reviews/san-giuseppe-hoboken_processed.csv\n",
      "['food', 'place', 'good', 'great', 'love', 'chicken', 'service', 'like', 'hoboken', 'sandwich']\n",
      "C:/Sem 2/web mining/git_latest/BIA-660-main/dataset/yelp/processed_reviews/satay-malaysian-cuisine-hoboken-2_processed.csv\n",
      "['food', 'place', 'good', 'great', 'love', 'chicken', 'service', 'like', 'hoboken', 'sandwich']\n",
      "C:/Sem 2/web mining/git_latest/BIA-660-main/dataset/yelp/processed_reviews/seven-valleys-hoboken_processed.csv\n",
      "['food', 'place', 'good', 'great', 'love', 'chicken', 'service', 'like', 'hoboken', 'sandwich']\n",
      "C:/Sem 2/web mining/git_latest/BIA-660-main/dataset/yelp/processed_reviews/shaka-bowl-hoboken-2_processed.csv\n",
      "['food', 'place', 'good', 'great', 'love', 'chicken', 'service', 'like', 'hoboken', 'sandwich']\n",
      "C:/Sem 2/web mining/git_latest/BIA-660-main/dataset/yelp/processed_reviews/shaka-bowl-hoboken_processed.csv\n",
      "['food', 'place', 'good', 'great', 'love', 'chicken', 'service', 'like', 'hoboken', 'sandwich']\n",
      "C:/Sem 2/web mining/git_latest/BIA-660-main/dataset/yelp/processed_reviews/shokudo-hoboken_processed.csv\n",
      "['great', 'food', 'service', 'place', 'atmosphere', 'staff', 'excellent', 'friendly', 'drink', 'good']\n",
      "C:/Sem 2/web mining/git_latest/BIA-660-main/dataset/yelp/processed_reviews/shoprite-of-hoboken-hoboken_processed.csv\n",
      "['food', 'time', 'drink', 'bar', 'order', 'table', 'place', 'good', 'service', 'came']\n",
      "C:/Sem 2/web mining/git_latest/BIA-660-main/dataset/yelp/processed_reviews/sirenetta-seafood-and-raw-bar-hoboken_processed.csv\n",
      "['food', 'place', 'good', 'great', 'love', 'chicken', 'service', 'like', 'hoboken', 'sandwich']\n",
      "C:/Sem 2/web mining/git_latest/BIA-660-main/dataset/yelp/processed_reviews/sorellina-hoboken_processed.csv\n",
      "['food', 'place', 'good', 'great', 'love', 'chicken', 'service', 'like', 'hoboken', 'sandwich']\n",
      "C:/Sem 2/web mining/git_latest/BIA-660-main/dataset/yelp/processed_reviews/south-lions-hoboken-2_processed.csv\n",
      "['food', 'place', 'good', 'great', 'love', 'chicken', 'service', 'like', 'hoboken', 'sandwich']\n",
      "C:/Sem 2/web mining/git_latest/BIA-660-main/dataset/yelp/processed_reviews/south-street-fish-and-ramen-co-hoboken_processed.csv\n",
      "['food', 'place', 'good', 'great', 'love', 'chicken', 'service', 'like', 'hoboken', 'sandwich']\n",
      "C:/Sem 2/web mining/git_latest/BIA-660-main/dataset/yelp/processed_reviews/sri-thai-thai-restaurant-hoboken_processed.csv\n",
      "['food', 'place', 'good', 'great', 'love', 'chicken', 'service', 'like', 'hoboken', 'sandwich']\n",
      "C:/Sem 2/web mining/git_latest/BIA-660-main/dataset/yelp/processed_reviews/stingray-lounge-uptown-hoboken-2_processed.csv\n",
      "['food', 'time', 'drink', 'bar', 'order', 'table', 'place', 'good', 'service', 'came']\n",
      "C:/Sem 2/web mining/git_latest/BIA-660-main/dataset/yelp/processed_reviews/sushi-lounge-hoboken_processed.csv\n",
      "['sushi', 'roll', 'hoboken', 'place', 'fresh', 'good', 'great', 'best', 'fish', 'service']\n",
      "C:/Sem 2/web mining/git_latest/BIA-660-main/dataset/yelp/processed_reviews/sweet-hoboken_processed.csv\n",
      "['cake', 'cooky', 'cream', 'ice', 'cupcake', 'chocolate', 'bakery', 'sweet', 'good', 'cookie']\n",
      "C:/Sem 2/web mining/git_latest/BIA-660-main/dataset/yelp/processed_reviews/t-thai-hoboken_processed.csv\n",
      "['food', 'place', 'good', 'great', 'love', 'chicken', 'service', 'like', 'hoboken', 'sandwich']\n",
      "C:/Sem 2/web mining/git_latest/BIA-660-main/dataset/yelp/processed_reviews/tenth-street-pasta-and-pizza-hoboken_processed.csv\n",
      "['food', 'time', 'drink', 'bar', 'order', 'table', 'place', 'good', 'service', 'came']\n",
      "C:/Sem 2/web mining/git_latest/BIA-660-main/dataset/yelp/processed_reviews/texas-arizona-hoboken_processed.csv\n",
      "['nice', 'place', 'food', 'good', 'great', 'staff', 'service', 'atmosphere', 'really', 'friendly']\n",
      "C:/Sem 2/web mining/git_latest/BIA-660-main/dataset/yelp/processed_reviews/the-ale-house-hoboken-2_processed.csv\n",
      "['food', 'place', 'good', 'great', 'love', 'chicken', 'service', 'like', 'hoboken', 'sandwich']\n",
      "C:/Sem 2/web mining/git_latest/BIA-660-main/dataset/yelp/processed_reviews/the-brass-rail-hoboken-hoboken_processed.csv\n",
      "['steak', 'good', 'great', 'cheese', 'place', 'food', 'service', 'best', 'ordered', 'cooked']\n",
      "C:/Sem 2/web mining/git_latest/BIA-660-main/dataset/yelp/processed_reviews/the-brick-fire-baked-pizza-hoboken-3_processed.csv\n",
      "['food', 'place', 'good', 'great', 'love', 'chicken', 'service', 'like', 'hoboken', 'sandwich']\n",
      "C:/Sem 2/web mining/git_latest/BIA-660-main/dataset/yelp/processed_reviews/the-cuban-restaurant-and-bar-hoboken-2_processed.csv\n",
      "['food', 'time', 'drink', 'bar', 'order', 'table', 'place', 'good', 'service', 'came']\n",
      "C:/Sem 2/web mining/git_latest/BIA-660-main/dataset/yelp/processed_reviews/the-hive-hoboken_processed.csv\n",
      "['coffee', 'great', 'shop', 'place', 'good', 'friendly', 'latte', 'pastry', 'staff', 'hoboken']\n",
      "C:/Sem 2/web mining/git_latest/BIA-660-main/dataset/yelp/processed_reviews/the-little-grocery-hoboken-3_processed.csv\n",
      "['coffee', 'great', 'shop', 'place', 'good', 'friendly', 'latte', 'pastry', 'staff', 'hoboken']\n",
      "C:/Sem 2/web mining/git_latest/BIA-660-main/dataset/yelp/processed_reviews/the-madison-bar-and-grill-hoboken_processed.csv\n",
      "['food', 'time', 'drink', 'bar', 'order', 'table', 'place', 'good', 'service', 'came']\n",
      "C:/Sem 2/web mining/git_latest/BIA-660-main/dataset/yelp/processed_reviews/the-roost-outpost-hoboken-3_processed.csv\n",
      "['coffee', 'great', 'shop', 'place', 'good', 'friendly', 'latte', 'pastry', 'staff', 'hoboken']\n",
      "C:/Sem 2/web mining/git_latest/BIA-660-main/dataset/yelp/processed_reviews/the-shepherd-and-the-knucklehead-of-hoboken-hoboken-2_processed.csv\n",
      "['food', 'place', 'good', 'great', 'love', 'chicken', 'service', 'like', 'hoboken', 'sandwich']\n",
      "C:/Sem 2/web mining/git_latest/BIA-660-main/dataset/yelp/processed_reviews/the-stewed-cow-hoboken_processed.csv\n",
      "['food', 'place', 'good', 'great', 'love', 'chicken', 'service', 'like', 'hoboken', 'sandwich']\n",
      "C:/Sem 2/web mining/git_latest/BIA-660-main/dataset/yelp/processed_reviews/thomas-ice-cream-cafe-hoboken-2_processed.csv\n",
      "['food', 'place', 'good', 'great', 'love', 'chicken', 'service', 'like', 'hoboken', 'sandwich']\n",
      "C:/Sem 2/web mining/git_latest/BIA-660-main/dataset/yelp/processed_reviews/tony-boloneys-hoboken-hoboken_processed.csv\n",
      "['food', 'place', 'good', 'great', 'love', 'chicken', 'service', 'like', 'hoboken', 'sandwich']\n",
      "C:/Sem 2/web mining/git_latest/BIA-660-main/dataset/yelp/processed_reviews/tornas-pizzeria-hoboken_processed.csv\n",
      "['best', 'hoboken', 'sandwich', 'food', 'place', 'town', 'italian', 'mozzarella', 'great', 'deli']\n",
      "C:/Sem 2/web mining/git_latest/BIA-660-main/dataset/yelp/processed_reviews/tosti-cafe-and-kitchen-hoboken_processed.csv\n",
      "['food', 'place', 'good', 'great', 'love', 'chicken', 'service', 'like', 'hoboken', 'sandwich']\n",
      "C:/Sem 2/web mining/git_latest/BIA-660-main/dataset/yelp/processed_reviews/touch-the-heart-hoboken_processed.csv\n",
      "['food', 'place', 'good', 'great', 'love', 'chicken', 'service', 'like', 'hoboken', 'sandwich']\n",
      "C:/Sem 2/web mining/git_latest/BIA-660-main/dataset/yelp/processed_reviews/turning-point-of-hoboken-hoboken_processed.csv\n",
      "['food', 'place', 'good', 'great', 'love', 'chicken', 'service', 'like', 'hoboken', 'sandwich']\n",
      "C:/Sem 2/web mining/git_latest/BIA-660-main/dataset/yelp/processed_reviews/ubu-hoboken_processed.csv\n",
      "['sushi', 'roll', 'hoboken', 'place', 'fresh', 'good', 'great', 'best', 'fish', 'service']\n",
      "C:/Sem 2/web mining/git_latest/BIA-660-main/dataset/yelp/processed_reviews/union-hall-hoboken_processed.csv\n",
      "['food', 'time', 'drink', 'bar', 'order', 'table', 'place', 'good', 'service', 'came']\n",
      "C:/Sem 2/web mining/git_latest/BIA-660-main/dataset/yelp/processed_reviews/urban-coalhouse-pizza-bar-hoboken-4_processed.csv\n",
      "['amazing', 'food', 'service', 'great', 'place', 'staff', 'friendly', 'love', 'recommend', 'definitely']\n",
      "C:/Sem 2/web mining/git_latest/BIA-660-main/dataset/yelp/processed_reviews/vitos-italian-deli-hoboken_processed.csv\n",
      "['food', 'place', 'good', 'great', 'love', 'chicken', 'service', 'like', 'hoboken', 'sandwich']\n",
      "C:/Sem 2/web mining/git_latest/BIA-660-main/dataset/yelp/processed_reviews/vivi-bubble-tea-hoboken_processed.csv\n",
      "['food', 'place', 'good', 'great', 'love', 'chicken', 'service', 'like', 'hoboken', 'sandwich']\n",
      "C:/Sem 2/web mining/git_latest/BIA-660-main/dataset/yelp/processed_reviews/wicked-wolf-tavern-hoboken_processed.csv\n",
      "['food', 'place', 'good', 'great', 'love', 'chicken', 'service', 'like', 'hoboken', 'sandwich']\n",
      "C:/Sem 2/web mining/git_latest/BIA-660-main/dataset/yelp/processed_reviews/willie-mcbrides-hoboken_processed.csv\n",
      "['food', 'place', 'good', 'great', 'love', 'chicken', 'service', 'like', 'hoboken', 'sandwich']\n",
      "C:/Sem 2/web mining/git_latest/BIA-660-main/dataset/yelp/processed_reviews/yeung-ii-sushi-asian-cuisine-hoboken-61_processed.csv\n",
      "['sushi', 'roll', 'hoboken', 'place', 'fresh', 'good', 'great', 'best', 'fish', 'service']\n",
      "C:/Sem 2/web mining/git_latest/BIA-660-main/dataset/yelp/processed_reviews/yukis-coffee-and-bakery-hoboken_processed.csv\n",
      "['delicious', 'food', 'service', 'great', 'friendly', 'staff', 'fresh', 'place', 'recommend', 'definitely']\n",
      "C:/Sem 2/web mining/git_latest/BIA-660-main/dataset/yelp/processed_reviews/zacks-oak-bar-and-restaurant-hoboken_processed.csv\n",
      "['nice', 'place', 'food', 'good', 'great', 'staff', 'service', 'atmosphere', 'really', 'friendly']\n",
      "C:/Sem 2/web mining/git_latest/BIA-660-main/dataset/yelp/processed_reviews/zero-otto-uno-cafe-hoboken_processed.csv\n",
      "['food', 'place', 'good', 'great', 'love', 'chicken', 'service', 'like', 'hoboken', 'sandwich']\n"
     ]
    }
   ],
   "source": [
    "#Get the aspects of restaurants scraped from Yelp Reviews\n",
    "process_yelp(model,vectorizere)"
   ]
  }
 ],
 "metadata": {
  "kernelspec": {
   "display_name": "Python 3",
   "language": "python",
   "name": "python3"
  },
  "language_info": {
   "codemirror_mode": {
    "name": "ipython",
    "version": 3
   },
   "file_extension": ".py",
   "mimetype": "text/x-python",
   "name": "python",
   "nbconvert_exporter": "python",
   "pygments_lexer": "ipython3",
   "version": "3.8.5"
  }
 },
 "nbformat": 4,
 "nbformat_minor": 4
}
